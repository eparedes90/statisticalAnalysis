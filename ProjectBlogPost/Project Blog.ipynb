{
 "cells": [
  {
   "cell_type": "markdown",
   "id": "63be33bb",
   "metadata": {},
   "source": [
    "# PROJECT 1: BLOG POST\n",
    "\n",
    "Question1 : What characteristics have a person that decides to save for retirement?\n",
    "\n",
    "Question2 : What are the ways they take to save for retirement?\n",
    "\n",
    "Question3 : What is the main reason they do not choose a Pension Scheme?\n",
    "\n",
    "Data source : “Encuesta Nacional de Demanda de Servicios Financieros y Nivel de Cultura\n",
    "Financiera en el Perú” of 2016 provided by Superintendencia de Banca y Seguros (SBS)\n",
    "\n",
    "\n",
    "## Import Libraries"
   ]
  },
  {
   "cell_type": "code",
   "execution_count": 63,
   "id": "7777b695",
   "metadata": {},
   "outputs": [],
   "source": [
    "import pandas as pd\n",
    "import numpy as np\n",
    "import matplotlib.pyplot as plt\n",
    "%matplotlib inline \n",
    "import seaborn as sns"
   ]
  },
  {
   "cell_type": "code",
   "execution_count": 64,
   "id": "54d8b2b5",
   "metadata": {},
   "outputs": [],
   "source": [
    "#read the data base\n",
    "df = pd.read_stata('Base de datos.dta', convert_categoricals=False)"
   ]
  },
  {
   "cell_type": "markdown",
   "id": "f8a67b03",
   "metadata": {},
   "source": [
    "## Cleaning of variables\n",
    "\n",
    "- Save: (Dichotomic variable) People who save money are the ones who answered in the question “p55” the options\n",
    "from 1 to 6; people who do not save, 7 and 8.\n",
    "- Age: (Numeric variable) Question “p3”.\n",
    "- levelEducation: (Ordered variable) Question “p8”. Level of education reached\n",
    "- maritalStatus: (Categorical variable) Question “p4”.\n",
    "- Sex: (Dichotomic variable) Question “p2”. Men were assigned “0” and Women, “1”.\n",
    "- Income: (Ordered variable) Question “p27”. It is divided in ranges\n",
    "- NumMembersAtHome: (Numeric Variable). Question “p5”. Number of people who live in the\n",
    "household.\n",
    "- TypeSavings: (Categorical variable) Question \"p25\". Ways of saving for retirement\n",
    "- noPensionSch: (Categorical variable) Question \"p56\". Reason people do not choose pension schemes."
   ]
  },
  {
   "cell_type": "code",
   "execution_count": 65,
   "id": "92561215",
   "metadata": {},
   "outputs": [],
   "source": [
    "#'save' variable\n",
    "#create 'save' first as a series full of nan\n",
    "df['save'] = pd.Series(np.nan, index = df.index)\n",
    "\n",
    "#then assign the values of the questions of type 'p55_'\n",
    "df['save'] = np.where((df['p55_1']== 1) | (df['p55_2']== 1) | (df['p55_3']== 1) | (df['p55_4']== 1) | (df['p55_5']== 1) | (df['p55_6']== 1), 1, df['save'])\n",
    "df['save'] = np.where((df['p55_7']== 1) | (df['p55_8']== 1), 0, df['save'])\n"
   ]
  },
  {
   "cell_type": "code",
   "execution_count": 66,
   "id": "d0820740",
   "metadata": {},
   "outputs": [
    {
     "data": {
      "text/plain": [
       "0.0009516256938937351"
      ]
     },
     "execution_count": 66,
     "metadata": {},
     "output_type": "execute_result"
    }
   ],
   "source": [
    "#what is the perecentage of nan values in the variable of interest?\n",
    "df['save'].isnull().mean()"
   ]
  },
  {
   "cell_type": "code",
   "execution_count": 67,
   "id": "12a963f0",
   "metadata": {},
   "outputs": [],
   "source": [
    "#drop na from the variable of interest due to small amount of nan values\n",
    "df.dropna(subset=['save'], axis = 0, how = 'any', inplace = True)"
   ]
  },
  {
   "cell_type": "code",
   "execution_count": 68,
   "id": "a639dd45",
   "metadata": {},
   "outputs": [
    {
     "name": "stdout",
     "output_type": "stream",
     "text": [
      "<class 'pandas.core.frame.DataFrame'>\n",
      "Int64Index: 6299 entries, 0 to 6304\n",
      "Data columns (total 7 columns):\n",
      " #   Column            Non-Null Count  Dtype  \n",
      "---  ------            --------------  -----  \n",
      " 0   save              6299 non-null   float64\n",
      " 1   age               6299 non-null   float64\n",
      " 2   levelEducation    6299 non-null   float64\n",
      " 3   maritalStatus     6282 non-null   float64\n",
      " 4   sex               6299 non-null   float64\n",
      " 5   income            4544 non-null   float64\n",
      " 6   numMembersAtHome  6298 non-null   float64\n",
      "dtypes: float64(7)\n",
      "memory usage: 393.7 KB\n"
     ]
    }
   ],
   "source": [
    "#rename the columns\n",
    "df.rename(columns = {'p3':'age', 'p8':'levelEducation', 'p4':'maritalStatus', 'p2':'sex', 'p27':'income', 'p5':'numMembersAtHome'}, inplace = True)\n",
    "\n",
    "#create another df to anwer the 2nd and 3rd question. \n",
    "#Question 1 will have another way to treat nan values because the second and third question could be answered separately\n",
    "#from what is found in the first one, so in order to not loose nan values for those last two questions, another data frame was created\n",
    "df2 = df.copy()\n",
    "\n",
    "#subset the data\n",
    "df = df[['save', 'age', 'levelEducation', 'maritalStatus', 'sex', 'income', 'numMembersAtHome']]\n",
    "\n",
    "#info\n",
    "df.info()"
   ]
  },
  {
   "cell_type": "code",
   "execution_count": 69,
   "id": "45acf80d",
   "metadata": {},
   "outputs": [
    {
     "data": {
      "text/html": [
       "<div>\n",
       "<style scoped>\n",
       "    .dataframe tbody tr th:only-of-type {\n",
       "        vertical-align: middle;\n",
       "    }\n",
       "\n",
       "    .dataframe tbody tr th {\n",
       "        vertical-align: top;\n",
       "    }\n",
       "\n",
       "    .dataframe thead th {\n",
       "        text-align: right;\n",
       "    }\n",
       "</style>\n",
       "<table border=\"1\" class=\"dataframe\">\n",
       "  <thead>\n",
       "    <tr style=\"text-align: right;\">\n",
       "      <th></th>\n",
       "      <th>save</th>\n",
       "      <th>age</th>\n",
       "      <th>levelEducation</th>\n",
       "      <th>maritalStatus</th>\n",
       "      <th>sex</th>\n",
       "      <th>income</th>\n",
       "      <th>numMembersAtHome</th>\n",
       "    </tr>\n",
       "  </thead>\n",
       "  <tbody>\n",
       "    <tr>\n",
       "      <th>count</th>\n",
       "      <td>6299.000000</td>\n",
       "      <td>6299.000000</td>\n",
       "      <td>6299.000000</td>\n",
       "      <td>6282.000000</td>\n",
       "      <td>6299.000000</td>\n",
       "      <td>4544.000000</td>\n",
       "      <td>6298.000000</td>\n",
       "    </tr>\n",
       "    <tr>\n",
       "      <th>mean</th>\n",
       "      <td>0.420702</td>\n",
       "      <td>41.785839</td>\n",
       "      <td>5.760438</td>\n",
       "      <td>1.890003</td>\n",
       "      <td>0.583902</td>\n",
       "      <td>2.625660</td>\n",
       "      <td>4.255954</td>\n",
       "    </tr>\n",
       "    <tr>\n",
       "      <th>std</th>\n",
       "      <td>0.493711</td>\n",
       "      <td>14.554625</td>\n",
       "      <td>2.285494</td>\n",
       "      <td>0.545201</td>\n",
       "      <td>0.492949</td>\n",
       "      <td>1.554233</td>\n",
       "      <td>1.999659</td>\n",
       "    </tr>\n",
       "    <tr>\n",
       "      <th>min</th>\n",
       "      <td>0.000000</td>\n",
       "      <td>-8.000000</td>\n",
       "      <td>1.000000</td>\n",
       "      <td>1.000000</td>\n",
       "      <td>0.000000</td>\n",
       "      <td>-8.000000</td>\n",
       "      <td>-8.000000</td>\n",
       "    </tr>\n",
       "    <tr>\n",
       "      <th>25%</th>\n",
       "      <td>0.000000</td>\n",
       "      <td>30.000000</td>\n",
       "      <td>4.000000</td>\n",
       "      <td>2.000000</td>\n",
       "      <td>0.000000</td>\n",
       "      <td>1.000000</td>\n",
       "      <td>3.000000</td>\n",
       "    </tr>\n",
       "    <tr>\n",
       "      <th>50%</th>\n",
       "      <td>0.000000</td>\n",
       "      <td>41.000000</td>\n",
       "      <td>6.000000</td>\n",
       "      <td>2.000000</td>\n",
       "      <td>1.000000</td>\n",
       "      <td>2.000000</td>\n",
       "      <td>4.000000</td>\n",
       "    </tr>\n",
       "    <tr>\n",
       "      <th>75%</th>\n",
       "      <td>1.000000</td>\n",
       "      <td>53.000000</td>\n",
       "      <td>7.000000</td>\n",
       "      <td>2.000000</td>\n",
       "      <td>1.000000</td>\n",
       "      <td>4.000000</td>\n",
       "      <td>5.000000</td>\n",
       "    </tr>\n",
       "    <tr>\n",
       "      <th>max</th>\n",
       "      <td>1.000000</td>\n",
       "      <td>70.000000</td>\n",
       "      <td>11.000000</td>\n",
       "      <td>3.000000</td>\n",
       "      <td>1.000000</td>\n",
       "      <td>6.000000</td>\n",
       "      <td>20.000000</td>\n",
       "    </tr>\n",
       "  </tbody>\n",
       "</table>\n",
       "</div>"
      ],
      "text/plain": [
       "              save          age  levelEducation  maritalStatus          sex  \\\n",
       "count  6299.000000  6299.000000     6299.000000    6282.000000  6299.000000   \n",
       "mean      0.420702    41.785839        5.760438       1.890003     0.583902   \n",
       "std       0.493711    14.554625        2.285494       0.545201     0.492949   \n",
       "min       0.000000    -8.000000        1.000000       1.000000     0.000000   \n",
       "25%       0.000000    30.000000        4.000000       2.000000     0.000000   \n",
       "50%       0.000000    41.000000        6.000000       2.000000     1.000000   \n",
       "75%       1.000000    53.000000        7.000000       2.000000     1.000000   \n",
       "max       1.000000    70.000000       11.000000       3.000000     1.000000   \n",
       "\n",
       "            income  numMembersAtHome  \n",
       "count  4544.000000       6298.000000  \n",
       "mean      2.625660          4.255954  \n",
       "std       1.554233          1.999659  \n",
       "min      -8.000000         -8.000000  \n",
       "25%       1.000000          3.000000  \n",
       "50%       2.000000          4.000000  \n",
       "75%       4.000000          5.000000  \n",
       "max       6.000000         20.000000  "
      ]
     },
     "execution_count": 69,
     "metadata": {},
     "output_type": "execute_result"
    }
   ],
   "source": [
    "#check the values\n",
    "df.describe()"
   ]
  },
  {
   "cell_type": "markdown",
   "id": "24ef9427",
   "metadata": {},
   "source": [
    "There exist answers '-8.0' in reference to Nan values. They have to be replaced"
   ]
  },
  {
   "cell_type": "code",
   "execution_count": 70,
   "id": "d8dbc0a0",
   "metadata": {},
   "outputs": [],
   "source": [
    "#replace '-8.0' with nan\n",
    "for i in df:\n",
    "    df[i] = np.where(df[i] == -8, np.nan, df[i])"
   ]
  },
  {
   "cell_type": "code",
   "execution_count": 71,
   "id": "d94939e9",
   "metadata": {},
   "outputs": [
    {
     "data": {
      "text/plain": [
       "save                0.000000\n",
       "age                 0.000635\n",
       "levelEducation      0.000000\n",
       "maritalStatus       0.002699\n",
       "sex                 0.000000\n",
       "income              0.279727\n",
       "numMembersAtHome    0.001270\n",
       "dtype: float64"
      ]
     },
     "execution_count": 71,
     "metadata": {},
     "output_type": "execute_result"
    }
   ],
   "source": [
    "#check the proportion of nan values in each variable\n",
    "df.isnull().mean()"
   ]
  },
  {
   "cell_type": "markdown",
   "id": "94fddc88",
   "metadata": {},
   "source": [
    "Due to the fact that the proportion of nan values is relatively low, it will be better to drop nan values. The sample will be reduced in just 27% aprox. Another way to deal with nan values is to replace them with the mean or the mode (in case of categorical values)."
   ]
  },
  {
   "cell_type": "code",
   "execution_count": 72,
   "id": "96fc72f1",
   "metadata": {},
   "outputs": [],
   "source": [
    "#drop nan values\n",
    "df.dropna(axis=0, how ='any', inplace=True)\n"
   ]
  },
  {
   "cell_type": "code",
   "execution_count": 73,
   "id": "ef216994",
   "metadata": {},
   "outputs": [
    {
     "data": {
      "text/html": [
       "<div>\n",
       "<style scoped>\n",
       "    .dataframe tbody tr th:only-of-type {\n",
       "        vertical-align: middle;\n",
       "    }\n",
       "\n",
       "    .dataframe tbody tr th {\n",
       "        vertical-align: top;\n",
       "    }\n",
       "\n",
       "    .dataframe thead th {\n",
       "        text-align: right;\n",
       "    }\n",
       "</style>\n",
       "<table border=\"1\" class=\"dataframe\">\n",
       "  <thead>\n",
       "    <tr style=\"text-align: right;\">\n",
       "      <th></th>\n",
       "      <th>save</th>\n",
       "      <th>age</th>\n",
       "      <th>levelEducation</th>\n",
       "      <th>maritalStatus</th>\n",
       "      <th>sex</th>\n",
       "      <th>income</th>\n",
       "      <th>numMembersAtHome</th>\n",
       "    </tr>\n",
       "  </thead>\n",
       "  <tbody>\n",
       "    <tr>\n",
       "      <th>count</th>\n",
       "      <td>4516.000000</td>\n",
       "      <td>4516.000000</td>\n",
       "      <td>4516.000000</td>\n",
       "      <td>4516.000000</td>\n",
       "      <td>4516.000000</td>\n",
       "      <td>4516.000000</td>\n",
       "      <td>4516.000000</td>\n",
       "    </tr>\n",
       "    <tr>\n",
       "      <th>mean</th>\n",
       "      <td>0.492471</td>\n",
       "      <td>42.749779</td>\n",
       "      <td>5.891497</td>\n",
       "      <td>1.901683</td>\n",
       "      <td>0.479628</td>\n",
       "      <td>2.642161</td>\n",
       "      <td>4.180027</td>\n",
       "    </tr>\n",
       "    <tr>\n",
       "      <th>std</th>\n",
       "      <td>0.499999</td>\n",
       "      <td>13.892446</td>\n",
       "      <td>2.317579</td>\n",
       "      <td>0.556119</td>\n",
       "      <td>0.499640</td>\n",
       "      <td>1.498891</td>\n",
       "      <td>1.961232</td>\n",
       "    </tr>\n",
       "    <tr>\n",
       "      <th>min</th>\n",
       "      <td>0.000000</td>\n",
       "      <td>18.000000</td>\n",
       "      <td>1.000000</td>\n",
       "      <td>1.000000</td>\n",
       "      <td>0.000000</td>\n",
       "      <td>1.000000</td>\n",
       "      <td>1.000000</td>\n",
       "    </tr>\n",
       "    <tr>\n",
       "      <th>25%</th>\n",
       "      <td>0.000000</td>\n",
       "      <td>32.000000</td>\n",
       "      <td>4.000000</td>\n",
       "      <td>2.000000</td>\n",
       "      <td>0.000000</td>\n",
       "      <td>1.000000</td>\n",
       "      <td>3.000000</td>\n",
       "    </tr>\n",
       "    <tr>\n",
       "      <th>50%</th>\n",
       "      <td>0.000000</td>\n",
       "      <td>42.000000</td>\n",
       "      <td>6.000000</td>\n",
       "      <td>2.000000</td>\n",
       "      <td>0.000000</td>\n",
       "      <td>2.000000</td>\n",
       "      <td>4.000000</td>\n",
       "    </tr>\n",
       "    <tr>\n",
       "      <th>75%</th>\n",
       "      <td>1.000000</td>\n",
       "      <td>53.000000</td>\n",
       "      <td>8.000000</td>\n",
       "      <td>2.000000</td>\n",
       "      <td>1.000000</td>\n",
       "      <td>4.000000</td>\n",
       "      <td>5.000000</td>\n",
       "    </tr>\n",
       "    <tr>\n",
       "      <th>max</th>\n",
       "      <td>1.000000</td>\n",
       "      <td>70.000000</td>\n",
       "      <td>11.000000</td>\n",
       "      <td>3.000000</td>\n",
       "      <td>1.000000</td>\n",
       "      <td>6.000000</td>\n",
       "      <td>19.000000</td>\n",
       "    </tr>\n",
       "  </tbody>\n",
       "</table>\n",
       "</div>"
      ],
      "text/plain": [
       "              save          age  levelEducation  maritalStatus          sex  \\\n",
       "count  4516.000000  4516.000000     4516.000000    4516.000000  4516.000000   \n",
       "mean      0.492471    42.749779        5.891497       1.901683     0.479628   \n",
       "std       0.499999    13.892446        2.317579       0.556119     0.499640   \n",
       "min       0.000000    18.000000        1.000000       1.000000     0.000000   \n",
       "25%       0.000000    32.000000        4.000000       2.000000     0.000000   \n",
       "50%       0.000000    42.000000        6.000000       2.000000     0.000000   \n",
       "75%       1.000000    53.000000        8.000000       2.000000     1.000000   \n",
       "max       1.000000    70.000000       11.000000       3.000000     1.000000   \n",
       "\n",
       "            income  numMembersAtHome  \n",
       "count  4516.000000       4516.000000  \n",
       "mean      2.642161          4.180027  \n",
       "std       1.498891          1.961232  \n",
       "min       1.000000          1.000000  \n",
       "25%       1.000000          3.000000  \n",
       "50%       2.000000          4.000000  \n",
       "75%       4.000000          5.000000  \n",
       "max       6.000000         19.000000  "
      ]
     },
     "execution_count": 73,
     "metadata": {},
     "output_type": "execute_result"
    }
   ],
   "source": [
    "df.describe()"
   ]
  },
  {
   "cell_type": "code",
   "execution_count": 74,
   "id": "e7842e65",
   "metadata": {},
   "outputs": [],
   "source": [
    "#change the type of each variable\n",
    "df = df.astype({'save':'uint8', 'age':'int64', 'levelEducation':'str', 'maritalStatus':'str', 'sex':'uint8', 'income':'str', 'numMembersAtHome':'int64'}, errors='ignore')"
   ]
  },
  {
   "cell_type": "code",
   "execution_count": 75,
   "id": "08503b06",
   "metadata": {},
   "outputs": [
    {
     "data": {
      "text/html": [
       "<div>\n",
       "<style scoped>\n",
       "    .dataframe tbody tr th:only-of-type {\n",
       "        vertical-align: middle;\n",
       "    }\n",
       "\n",
       "    .dataframe tbody tr th {\n",
       "        vertical-align: top;\n",
       "    }\n",
       "\n",
       "    .dataframe thead th {\n",
       "        text-align: right;\n",
       "    }\n",
       "</style>\n",
       "<table border=\"1\" class=\"dataframe\">\n",
       "  <thead>\n",
       "    <tr style=\"text-align: right;\">\n",
       "      <th></th>\n",
       "      <th>save</th>\n",
       "      <th>age</th>\n",
       "      <th>levelEducation</th>\n",
       "      <th>maritalStatus</th>\n",
       "      <th>sex</th>\n",
       "      <th>income</th>\n",
       "      <th>numMembersAtHome</th>\n",
       "    </tr>\n",
       "  </thead>\n",
       "  <tbody>\n",
       "    <tr>\n",
       "      <th>0</th>\n",
       "      <td>1</td>\n",
       "      <td>33</td>\n",
       "      <td>3.0</td>\n",
       "      <td>2.0</td>\n",
       "      <td>1</td>\n",
       "      <td>1.0</td>\n",
       "      <td>3</td>\n",
       "    </tr>\n",
       "    <tr>\n",
       "      <th>2</th>\n",
       "      <td>0</td>\n",
       "      <td>53</td>\n",
       "      <td>6.0</td>\n",
       "      <td>2.0</td>\n",
       "      <td>1</td>\n",
       "      <td>1.0</td>\n",
       "      <td>3</td>\n",
       "    </tr>\n",
       "    <tr>\n",
       "      <th>3</th>\n",
       "      <td>1</td>\n",
       "      <td>35</td>\n",
       "      <td>4.0</td>\n",
       "      <td>1.0</td>\n",
       "      <td>0</td>\n",
       "      <td>2.0</td>\n",
       "      <td>5</td>\n",
       "    </tr>\n",
       "    <tr>\n",
       "      <th>5</th>\n",
       "      <td>1</td>\n",
       "      <td>40</td>\n",
       "      <td>1.0</td>\n",
       "      <td>2.0</td>\n",
       "      <td>1</td>\n",
       "      <td>2.0</td>\n",
       "      <td>3</td>\n",
       "    </tr>\n",
       "    <tr>\n",
       "      <th>6</th>\n",
       "      <td>1</td>\n",
       "      <td>34</td>\n",
       "      <td>6.0</td>\n",
       "      <td>2.0</td>\n",
       "      <td>0</td>\n",
       "      <td>3.0</td>\n",
       "      <td>4</td>\n",
       "    </tr>\n",
       "    <tr>\n",
       "      <th>...</th>\n",
       "      <td>...</td>\n",
       "      <td>...</td>\n",
       "      <td>...</td>\n",
       "      <td>...</td>\n",
       "      <td>...</td>\n",
       "      <td>...</td>\n",
       "      <td>...</td>\n",
       "    </tr>\n",
       "    <tr>\n",
       "      <th>6300</th>\n",
       "      <td>1</td>\n",
       "      <td>34</td>\n",
       "      <td>10.0</td>\n",
       "      <td>2.0</td>\n",
       "      <td>1</td>\n",
       "      <td>4.0</td>\n",
       "      <td>2</td>\n",
       "    </tr>\n",
       "    <tr>\n",
       "      <th>6301</th>\n",
       "      <td>1</td>\n",
       "      <td>65</td>\n",
       "      <td>10.0</td>\n",
       "      <td>3.0</td>\n",
       "      <td>0</td>\n",
       "      <td>1.0</td>\n",
       "      <td>8</td>\n",
       "    </tr>\n",
       "    <tr>\n",
       "      <th>6302</th>\n",
       "      <td>1</td>\n",
       "      <td>30</td>\n",
       "      <td>10.0</td>\n",
       "      <td>2.0</td>\n",
       "      <td>1</td>\n",
       "      <td>6.0</td>\n",
       "      <td>4</td>\n",
       "    </tr>\n",
       "    <tr>\n",
       "      <th>6303</th>\n",
       "      <td>1</td>\n",
       "      <td>54</td>\n",
       "      <td>11.0</td>\n",
       "      <td>2.0</td>\n",
       "      <td>0</td>\n",
       "      <td>6.0</td>\n",
       "      <td>4</td>\n",
       "    </tr>\n",
       "    <tr>\n",
       "      <th>6304</th>\n",
       "      <td>1</td>\n",
       "      <td>28</td>\n",
       "      <td>8.0</td>\n",
       "      <td>2.0</td>\n",
       "      <td>0</td>\n",
       "      <td>3.0</td>\n",
       "      <td>5</td>\n",
       "    </tr>\n",
       "  </tbody>\n",
       "</table>\n",
       "<p>4516 rows × 7 columns</p>\n",
       "</div>"
      ],
      "text/plain": [
       "      save  age levelEducation maritalStatus  sex income  numMembersAtHome\n",
       "0        1   33            3.0           2.0    1    1.0                 3\n",
       "2        0   53            6.0           2.0    1    1.0                 3\n",
       "3        1   35            4.0           1.0    0    2.0                 5\n",
       "5        1   40            1.0           2.0    1    2.0                 3\n",
       "6        1   34            6.0           2.0    0    3.0                 4\n",
       "...    ...  ...            ...           ...  ...    ...               ...\n",
       "6300     1   34           10.0           2.0    1    4.0                 2\n",
       "6301     1   65           10.0           3.0    0    1.0                 8\n",
       "6302     1   30           10.0           2.0    1    6.0                 4\n",
       "6303     1   54           11.0           2.0    0    6.0                 4\n",
       "6304     1   28            8.0           2.0    0    3.0                 5\n",
       "\n",
       "[4516 rows x 7 columns]"
      ]
     },
     "execution_count": 75,
     "metadata": {},
     "output_type": "execute_result"
    }
   ],
   "source": [
    "df"
   ]
  },
  {
   "cell_type": "code",
   "execution_count": 76,
   "id": "49799644",
   "metadata": {},
   "outputs": [],
   "source": [
    "#Labeling the values of variables\n",
    "df['save'] = df['save'].replace([0.0, 1.0], ['no', 'yes'])\n",
    "\n",
    "#change the variable save to categorical\n",
    "df['save'] = pd.Categorical(df['save'], categories=['no', 'yes'], ordered=True)\n",
    "\n",
    "#Labeling the values of variables\n",
    "df['levelEducation'] = df['levelEducation'].replace(['1.0', '2.0', '3.0', '4.0', '5.0', '6.0', '7.0', '8.0', '9.0', '10.0', '11.0'], \\\n",
    "                                          ['noEducation', 'kindergarten','incompletePrimary', 'completePrimary', 'incompleteSecondary',\\\n",
    "                                          'completeSecondary', 'incompleteTechnical', 'completeTechnical', 'incompleteUniversity',\\\n",
    "                                          'completeUniversity', 'Postgrade'])\n",
    "df['maritalStatus'] = df['maritalStatus'].replace(['1.0', '2.0', '3.0'], ['single', 'married', 'divorced'])\n",
    "df['sex'] = df['sex'].replace([0.0, 1.0], ['male', 'female'])\n",
    "df['income'] = df['income'].replace(['1.0', '2.0', '3.0', '4.0', '5.0', '6.0'], ['<400', '<400,750>', '<750,1022>', '<1022,1500>', '<1500,2100>', '>2100'])"
   ]
  },
  {
   "cell_type": "markdown",
   "id": "cc441af0",
   "metadata": {},
   "source": [
    "## I. What are the main factors of the decision of saving for retirement?"
   ]
  },
  {
   "cell_type": "markdown",
   "id": "8258f858",
   "metadata": {},
   "source": [
    "### Level of Education"
   ]
  },
  {
   "cell_type": "code",
   "execution_count": 77,
   "id": "4c274184",
   "metadata": {},
   "outputs": [
    {
     "data": {
      "text/plain": [
       "<function matplotlib.pyplot.tight_layout(*, pad=1.08, h_pad=None, w_pad=None, rect=None)>"
      ]
     },
     "execution_count": 77,
     "metadata": {},
     "output_type": "execute_result"
    },
    {
     "data": {
      "image/png": "[encoded data removed]",
      "text/plain": [
       "<Figure size 792x504 with 1 Axes>"
      ]
     },
     "metadata": {
      "needs_background": "light"
     },
     "output_type": "display_data"
    }
   ],
   "source": [
    "#Level of education\n",
    "#transform it to categorical and give it order\n",
    "df['levelEducation'] = pd.Categorical(df['levelEducation'], categories = ['noEducation', 'kindergarten','incompletePrimary', 'completePrimary', 'incompleteSecondary',\\\n",
    "                                          'completeSecondary', 'incompleteTechnical', 'incompleteUniversity','completeTechnical', \\\n",
    "                                          'completeUniversity', 'Postgrade'], ordered = True)\n",
    "#graph\n",
    "plt.figure(figsize=(11,7))\n",
    "sns.countplot(x='levelEducation',hue='save',data=df,palette='Set1')\n",
    "locs, labels = plt.xticks()\n",
    "plt.setp(labels, rotation=45)\n",
    "plt.title('Level of Education')\n",
    "plt.xlabel('')\n",
    "plt.tight_layout"
   ]
  },
  {
   "cell_type": "markdown",
   "id": "b4b51a69",
   "metadata": {},
   "source": [
    "Is higher the level of education reached, higher is the proportion of people who save for retirement"
   ]
  },
  {
   "cell_type": "code",
   "execution_count": 78,
   "id": "a9a86f37",
   "metadata": {},
   "outputs": [],
   "source": [
    "from scipy import stats"
   ]
  },
  {
   "cell_type": "code",
   "execution_count": 79,
   "id": "466688b4",
   "metadata": {},
   "outputs": [
    {
     "data": {
      "text/plain": [
       "(350.58339700360074,\n",
       " 2.996286224606275e-69,\n",
       " 10,\n",
       " array([[ 80.69707706,   4.56775908, 276.60318866, 305.02480071,\n",
       "         294.87422498, 646.08414526, 106.07351639,  94.4003543 ,\n",
       "         215.19220549, 254.27192205,  14.21080602],\n",
       "        [ 78.30292294,   4.43224092, 268.39681134, 295.97519929,\n",
       "         286.12577502, 626.91585474, 102.92648361,  91.5996457 ,\n",
       "         208.80779451, 246.72807795,  13.78919398]]))"
      ]
     },
     "execution_count": 79,
     "metadata": {},
     "output_type": "execute_result"
    }
   ],
   "source": [
    "#chi square of independence\n",
    "crosstab = pd.crosstab(df[\"save\"], df[\"levelEducation\"])\n",
    "stats.chi2_contingency(crosstab)"
   ]
  },
  {
   "cell_type": "markdown",
   "id": "93181462",
   "metadata": {},
   "source": [
    "X2 test of independence give a pvalue<0.001, therefore it could be affirmed that there exist a relationship between this two variables"
   ]
  },
  {
   "cell_type": "markdown",
   "id": "178f2c08",
   "metadata": {},
   "source": [
    "### Marital Status"
   ]
  },
  {
   "cell_type": "code",
   "execution_count": 80,
   "id": "8b40bdc1",
   "metadata": {},
   "outputs": [
    {
     "data": {
      "text/plain": [
       "<function matplotlib.pyplot.tight_layout(*, pad=1.08, h_pad=None, w_pad=None, rect=None)>"
      ]
     },
     "execution_count": 80,
     "metadata": {},
     "output_type": "execute_result"
    },
    {
     "data": {
      "image/png": "[encoded data removed]",
      "text/plain": [
       "<Figure size 792x504 with 1 Axes>"
      ]
     },
     "metadata": {
      "needs_background": "light"
     },
     "output_type": "display_data"
    }
   ],
   "source": [
    "#graph\n",
    "plt.figure(figsize=(11,7))\n",
    "sns.countplot(x='maritalStatus',hue='save',data=df,palette='Set1')\n",
    "plt.title('Marital Status')\n",
    "plt.xlabel('')\n",
    "plt.tight_layout"
   ]
  },
  {
   "cell_type": "markdown",
   "id": "ad0d04a3",
   "metadata": {},
   "source": [
    "Divorced and single people have a lower proportion of saving for retirement"
   ]
  },
  {
   "cell_type": "code",
   "execution_count": 81,
   "id": "3bcb8e3e",
   "metadata": {},
   "outputs": [
    {
     "data": {
      "text/plain": [
       "(23.65933917031431,\n",
       " 7.285171441087505e-06,\n",
       " 2,\n",
       " array([[ 252.7493357 , 1561.15854739,  478.09211692],\n",
       "        [ 245.2506643 , 1514.84145261,  463.90788308]]))"
      ]
     },
     "execution_count": 81,
     "metadata": {},
     "output_type": "execute_result"
    }
   ],
   "source": [
    "#chi square of independence\n",
    "crosstab = pd.crosstab(df[\"save\"], df[\"maritalStatus\"])\n",
    "stats.chi2_contingency(crosstab)"
   ]
  },
  {
   "cell_type": "markdown",
   "id": "4cafb08a",
   "metadata": {},
   "source": [
    "X2 test of independence give a pvalue<0.001, therefore it could be affirmed that there exist a relationship between this two variables"
   ]
  },
  {
   "cell_type": "markdown",
   "id": "4593830f",
   "metadata": {},
   "source": [
    "### Sex"
   ]
  },
  {
   "cell_type": "code",
   "execution_count": 82,
   "id": "b06f961f",
   "metadata": {},
   "outputs": [
    {
     "data": {
      "text/plain": [
       "<function matplotlib.pyplot.tight_layout(*, pad=1.08, h_pad=None, w_pad=None, rect=None)>"
      ]
     },
     "execution_count": 82,
     "metadata": {},
     "output_type": "execute_result"
    },
    {
     "data": {
      "image/png": "[encoded data removed]",
      "text/plain": [
       "<Figure size 792x504 with 1 Axes>"
      ]
     },
     "metadata": {
      "needs_background": "light"
     },
     "output_type": "display_data"
    }
   ],
   "source": [
    "#graph\n",
    "plt.figure(figsize=(11,7))\n",
    "sns.countplot(x='sex',hue='save',data=df,palette='Set1')\n",
    "plt.title('Sex')\n",
    "plt.xlabel('')\n",
    "plt.tight_layout"
   ]
  },
  {
   "cell_type": "markdown",
   "id": "3b2b422d",
   "metadata": {},
   "source": [
    "Males have a higher proportion of saving for retirement"
   ]
  },
  {
   "cell_type": "code",
   "execution_count": 83,
   "id": "e43cc5ce",
   "metadata": {},
   "outputs": [
    {
     "data": {
      "text/plain": [
       "(19.016080727857254,\n",
       " 1.2962145808954675e-05,\n",
       " 1,\n",
       " array([[1099.30735164, 1192.69264836],\n",
       "        [1066.69264836, 1157.30735164]]))"
      ]
     },
     "execution_count": 83,
     "metadata": {},
     "output_type": "execute_result"
    }
   ],
   "source": [
    "#chi square of independence\n",
    "crosstab = pd.crosstab(df[\"save\"], df[\"sex\"])\n",
    "stats.chi2_contingency(crosstab)"
   ]
  },
  {
   "cell_type": "markdown",
   "id": "ec52277e",
   "metadata": {},
   "source": [
    "X2 test of independence give a pvalue<0.001; therefore, it could be affirmed that there exist a relationship between this two variables"
   ]
  },
  {
   "cell_type": "markdown",
   "id": "60c40d5e",
   "metadata": {},
   "source": [
    "### Income"
   ]
  },
  {
   "cell_type": "code",
   "execution_count": 84,
   "id": "e58629b5",
   "metadata": {},
   "outputs": [
    {
     "data": {
      "text/plain": [
       "<function matplotlib.pyplot.tight_layout(*, pad=1.08, h_pad=None, w_pad=None, rect=None)>"
      ]
     },
     "execution_count": 84,
     "metadata": {},
     "output_type": "execute_result"
    },
    {
     "data": {
      "image/png": "[encoded data removed]",
      "text/plain": [
       "<Figure size 792x504 with 1 Axes>"
      ]
     },
     "metadata": {
      "needs_background": "light"
     },
     "output_type": "display_data"
    }
   ],
   "source": [
    "#Income\n",
    "#transform it to categorical and give it order\n",
    "df['income'] = pd.Categorical(df['income'], categories = ['<400', '<400,750>', '<750,1022>', '<1022,1500>', '<1500,2100>', '>2100'] , ordered = True)\n",
    "\n",
    "#graph\n",
    "plt.figure(figsize=(11,7))\n",
    "sns.countplot(x='income',hue='save',data=df,palette='Set1')\n",
    "plt.title('Level of income')\n",
    "plt.xlabel('soles')\n",
    "plt.tight_layout"
   ]
  },
  {
   "cell_type": "markdown",
   "id": "a53d39d6",
   "metadata": {},
   "source": [
    "Clearly, people who earn more than 750 soles per month have a higher proportion of saving for retirement"
   ]
  },
  {
   "cell_type": "code",
   "execution_count": 85,
   "id": "4afd8fb6",
   "metadata": {},
   "outputs": [
    {
     "data": {
      "text/plain": [
       "(358.21990255086877,\n",
       " 2.973116188738553e-75,\n",
       " 5,\n",
       " array([[653.18954827, 582.64304694, 434.44464128, 316.19043401,\n",
       "         163.93179805, 141.60053144],\n",
       "        [633.81045173, 565.35695306, 421.55535872, 306.80956599,\n",
       "         159.06820195, 137.39946856]]))"
      ]
     },
     "execution_count": 85,
     "metadata": {},
     "output_type": "execute_result"
    }
   ],
   "source": [
    "#chi square of independence\n",
    "crosstab = pd.crosstab(df[\"save\"], df[\"income\"])\n",
    "stats.chi2_contingency(crosstab)"
   ]
  },
  {
   "cell_type": "markdown",
   "id": "3ec08e3a",
   "metadata": {},
   "source": [
    "X2 test of independence give a pvalue<0.001, therefore it could be affirmed that there exist a relationship between this two variables"
   ]
  },
  {
   "cell_type": "markdown",
   "id": "39dbc353",
   "metadata": {},
   "source": [
    "### Age"
   ]
  },
  {
   "cell_type": "code",
   "execution_count": 86,
   "id": "b984f889",
   "metadata": {},
   "outputs": [
    {
     "data": {
      "text/plain": [
       "Text(0, 0.5, 'years')"
      ]
     },
     "execution_count": 86,
     "metadata": {},
     "output_type": "execute_result"
    },
    {
     "data": {
      "image/png": "[encoded data removed]",
      "text/plain": [
       "<Figure size 792x504 with 1 Axes>"
      ]
     },
     "metadata": {
      "needs_background": "light"
     },
     "output_type": "display_data"
    }
   ],
   "source": [
    "#graph\n",
    "plt.figure(figsize=(11,7))\n",
    "sns.boxplot(x='save', y = 'age', data = df, palette = 'Set1')\n",
    "plt.title('Age')\n",
    "plt.ylabel('years')"
   ]
  },
  {
   "cell_type": "markdown",
   "id": "21dc52e2",
   "metadata": {},
   "source": [
    "The medians of both groups, people who save and not save, are very close; though the group of people who save has a higher median"
   ]
  },
  {
   "cell_type": "markdown",
   "id": "90824f0f",
   "metadata": {},
   "source": [
    "### Number of members at home"
   ]
  },
  {
   "cell_type": "code",
   "execution_count": 87,
   "id": "ff19e96d",
   "metadata": {},
   "outputs": [
    {
     "data": {
      "text/plain": [
       "<AxesSubplot:xlabel='save', ylabel='numMembersAtHome'>"
      ]
     },
     "execution_count": 87,
     "metadata": {},
     "output_type": "execute_result"
    },
    {
     "data": {
      "image/png": "[encoded data removed]",
      "text/plain": [
       "<Figure size 792x504 with 1 Axes>"
      ]
     },
     "metadata": {
      "needs_background": "light"
     },
     "output_type": "display_data"
    }
   ],
   "source": [
    "#number of members at home\n",
    "plt.figure(figsize=(11,7))\n",
    "sns.boxplot(x='save', y = 'numMembersAtHome', data = df, palette = 'Set1')"
   ]
  },
  {
   "cell_type": "markdown",
   "id": "7721c7b6",
   "metadata": {},
   "source": [
    "The distributions of both groups are very similar. Also, there are several outliers that should be trated carefully. This variable will not be explained in the blog for simplicity. "
   ]
  },
  {
   "cell_type": "markdown",
   "id": "ae7a36a3",
   "metadata": {},
   "source": [
    "The graph analysis and the chi square tests of independence show that the main demographic factors of saving for retirement are sex, income, marital status and education. With the variables numbers of members at home and age could be applied, in a further research, an univariate logistic regression to know if the effect of those variable are statistically significant in the decision of saving.\n",
    "Males with higher income, married and higher level of education responded in a higher proportion that they save for retirement. These characteristics corresponds mainly to a person who is working probably in a dependent job with an obliged pension scheme; therefore, the next step to take is to deep, for the people who save, in the ways that they choose to save.\n",
    "\n"
   ]
  },
  {
   "cell_type": "markdown",
   "id": "dec0b5ac",
   "metadata": {},
   "source": [
    "## II : What are the ways they take to save for retirement?"
   ]
  },
  {
   "cell_type": "code",
   "execution_count": 88,
   "id": "1f059c88",
   "metadata": {},
   "outputs": [],
   "source": [
    "#type of savings\n",
    "#Create a variable that unites the answers of questions of type 'p55_'.\n",
    "#First create the variable full of nan, in order to not loose the values that could be nan\n",
    "df2['typeSaving'] = pd.Series(np.nan, index = df2.index)\n",
    "\n",
    "#then assign the values\n",
    "df2['typeSaving'] = np.where((df2['p55_1']== 1), 'pensionScheme', df2['typeSaving'])\n",
    "df2['typeSaving'] = np.where((df2['p55_2']== 1), 'financialInst', df2['typeSaving'])\n",
    "df2['typeSaving'] = np.where((df2['p55_3']== 1), 'lifeInsurance', df2['typeSaving'])\n",
    "df2['typeSaving'] = np.where((df2['p55_4']== 1), 'byHisOwn', df2['typeSaving'])\n",
    "df2['typeSaving'] = np.where((df2['p55_5']== 1), 'InvestmentRents', df2['typeSaving'])\n",
    "df2['typeSaving'] = np.where((df2['p55_6']== 1), 'kidsEducation', df2['typeSaving'])\n"
   ]
  },
  {
   "cell_type": "code",
   "execution_count": 89,
   "id": "e35e61a2",
   "metadata": {},
   "outputs": [
    {
     "data": {
      "text/plain": [
       "lifeInsurance        46\n",
       "financialInst       173\n",
       "InvestmentRents     354\n",
       "kidsEducation       653\n",
       "byHisOwn            710\n",
       "pensionScheme       746\n",
       "nan                3617\n",
       "Name: typeSaving, dtype: int64"
      ]
     },
     "execution_count": 89,
     "metadata": {},
     "output_type": "execute_result"
    }
   ],
   "source": [
    "df2['typeSaving'].value_counts(sort=True, ascending = True)"
   ]
  },
  {
   "cell_type": "code",
   "execution_count": 90,
   "id": "30dacea6",
   "metadata": {},
   "outputs": [
    {
     "data": {
      "text/plain": [
       "<function matplotlib.pyplot.tight_layout(*, pad=1.08, h_pad=None, w_pad=None, rect=None)>"
      ]
     },
     "execution_count": 90,
     "metadata": {},
     "output_type": "execute_result"
    },
    {
     "data": {
      "image/png": "[encoded data removed]",
      "text/plain": [
       "<Figure size 792x504 with 1 Axes>"
      ]
     },
     "metadata": {
      "needs_background": "light"
     },
     "output_type": "display_data"
    }
   ],
   "source": [
    "#graph\n",
    "plt.figure(figsize=(11,7))\n",
    "\n",
    "#assign 'nan' a np.nan value\n",
    "df2['typeSaving'] = np.where(df2['typeSaving'] == 'nan', np.nan, df2['typeSaving'])\n",
    "\n",
    "#drop na that are the people who do not save\n",
    "((df2['typeSaving'].value_counts(sort=True, ascending = True)/(len(df2['typeSaving'].dropna(axis = 0, how = 'any'))))*100).plot.barh()\n",
    "plt.title('Types of saving for retirement')\n",
    "plt.xlabel('percentage')\n",
    "plt.tight_layout"
   ]
  },
  {
   "cell_type": "markdown",
   "id": "369299f5",
   "metadata": {},
   "source": [
    "If a person is working dependently is obliged to enter to the pension scheme, but if not someone could also enter freely. The graph shows that the pension scheme is the most common way they have to save for retirement. However, the option 'ByHisOwn' is the one that follows in the list, as well as 'KidsEducation'. This means that most of the people (more than 50%) have an alternative way of saving out of the financial sector; therefore, these two last options are risky and distrustful ways of saving. "
   ]
  },
  {
   "cell_type": "markdown",
   "id": "3f968f26",
   "metadata": {},
   "source": [
    "## III: What is the main reason they do not choose a pension scheme?"
   ]
  },
  {
   "cell_type": "code",
   "execution_count": 91,
   "id": "98934f0f",
   "metadata": {},
   "outputs": [
    {
     "data": {
      "text/plain": [
       " 2.0     1513\n",
       " 8.0      813\n",
       " 5.0      789\n",
       " 3.0      489\n",
       " 1.0      463\n",
       " 7.0      428\n",
       " 6.0      317\n",
       " 4.0      228\n",
       " 10.0     169\n",
       " 9.0      134\n",
       "-8.0        1\n",
       "Name: p56, dtype: int64"
      ]
     },
     "execution_count": 91,
     "metadata": {},
     "output_type": "execute_result"
    }
   ],
   "source": [
    "df2['p56'].value_counts(sort = True)"
   ]
  },
  {
   "cell_type": "code",
   "execution_count": 92,
   "id": "2b65c759",
   "metadata": {},
   "outputs": [],
   "source": [
    "#replace values\n",
    "df2['noPensionSch'] = df2['p56'].replace({1.0: 'noTrust', 2.0:'noMoney', 3.0:'noNeed', 4.0:'frozenMoney', 5.0:'noKnowledge', 6.0:'noAccess', 7.0:'seemsComplicated', 8.0:'noJob', 9.0: 'other', 10.0:'freelancer',-8.0:np.nan})"
   ]
  },
  {
   "cell_type": "code",
   "execution_count": 93,
   "id": "dfcfad57",
   "metadata": {},
   "outputs": [
    {
     "data": {
      "text/plain": [
       "<function matplotlib.pyplot.tight_layout(*, pad=1.08, h_pad=None, w_pad=None, rect=None)>"
      ]
     },
     "execution_count": 93,
     "metadata": {},
     "output_type": "execute_result"
    },
    {
     "data": {
      "image/png": "[encoded data removed]",
      "text/plain": [
       "<Figure size 792x504 with 1 Axes>"
      ]
     },
     "metadata": {
      "needs_background": "light"
     },
     "output_type": "display_data"
    }
   ],
   "source": [
    "#graph\n",
    "plt.figure(figsize=(11,7))\n",
    "(df2['noPensionSch'].value_counts(sort = True, ascending = True)/len(df2['noPensionSch'].dropna(axis = 0, how = 'any'))*100).plot.barh()\n",
    "plt.title('Reasons not to choose a pension scheme')\n",
    "plt.xlabel('percentage')\n",
    "plt.tight_layout"
   ]
  },
  {
   "cell_type": "code",
   "execution_count": 94,
   "id": "db3f4c22",
   "metadata": {},
   "outputs": [
    {
     "data": {
      "text/plain": [
       "noMoney             28.317425\n",
       "noJob               15.216171\n",
       "noKnowledge         14.766985\n",
       "noNeed               9.152162\n",
       "noTrust              8.665544\n",
       "seemsComplicated     8.010481\n",
       "noAccess             5.932996\n",
       "frozenMoney          4.267266\n",
       "freelancer           3.163017\n",
       "other                2.507954\n",
       "Name: noPensionSch, dtype: float64"
      ]
     },
     "execution_count": 94,
     "metadata": {},
     "output_type": "execute_result"
    }
   ],
   "source": [
    "df2['noPensionSch'].value_counts(sort = True, ascending = False)/len(df2['noPensionSch'].dropna(axis = 0, how = 'any'))*100"
   ]
  },
  {
   "cell_type": "markdown",
   "id": "366941d5",
   "metadata": {},
   "source": [
    "By far, people do not use pension Scheme due to the lack of money (28%) or job(15%) or lack of Knowledge (14.7%)"
   ]
  }
 ],
 "metadata": {
  "kernelspec": {
   "display_name": "Python 3 (ipykernel)",
   "language": "python",
   "name": "python3"
  },
  "language_info": {
   "codemirror_mode": {
    "name": "ipython",
    "version": 3
   },
   "file_extension": ".py",
   "mimetype": "text/x-python",
   "name": "python",
   "nbconvert_exporter": "python",
   "pygments_lexer": "ipython3",
   "version": "3.9.7"
  }
 },
 "nbformat": 4,
 "nbformat_minor": 5
}
