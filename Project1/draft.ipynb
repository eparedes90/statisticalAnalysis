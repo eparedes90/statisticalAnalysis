{
 "cells": [
  {
   "cell_type": "markdown",
   "id": "63be33bb",
   "metadata": {},
   "source": [
    "# PROJECT 1: BLOG POST\n",
    "\n",
    "Question1 : What are the main factors of the decision of saving for retirement?\n",
    "\n",
    "Question2 : Is the decision biased due to the law that obliged the worker to save?\n",
    "\n",
    "Question3 : What are the recommendations for public sector?\n",
    "\n",
    "Data source : “Encuesta Nacional de Demanda de Servicios Financieros y Nivel de Cultura\n",
    "Financiera en el Perú” provided by Superintendencia de Banca y Seguros (SBS)\n",
    "\n",
    "Econometric model : Logit Regression\n",
    "\n",
    "## Import Libraries"
   ]
  },
  {
   "cell_type": "code",
   "execution_count": 69,
   "id": "7777b695",
   "metadata": {},
   "outputs": [],
   "source": [
    "import pandas as pd\n",
    "import numpy as np\n",
    "import matplotlib.pyplot as plt\n",
    "%matplotlib inline \n",
    "import seaborn as sns\n",
    "from sklearn.linear_model import LinearRegression\n",
    "from sklearn.model_selection import train_test_split\n",
    "from sklearn.metrics import classification_report"
   ]
  },
  {
   "cell_type": "code",
   "execution_count": 70,
   "id": "54d8b2b5",
   "metadata": {},
   "outputs": [],
   "source": [
    "df = pd.read_stata('Base de datos.dta', convert_categoricals=False)"
   ]
  },
  {
   "cell_type": "markdown",
   "id": "f8a67b03",
   "metadata": {},
   "source": [
    "## Cleaning of variables\n",
    "\n",
    "- Save: (Dichotomic variable) Cases are the ones who answered in the question “p55” the options\n",
    "from 1 to 6; Control, 7 and 8. In other words, Cases are the people who are saving money when they\n",
    "get old (or retired), while Controls are not saving money.\n",
    "- Age: (Numeric variable) Question “p3”.\n",
    "- levelEducation: (Ordered variable) Question “p8”. Level of education reached\n",
    "- maritalStatus: (Categorical variable) Question “p4”.\n",
    "- Sex: (Dichotomic variable) Question “p2”. Men were assigned “0” and Women, “1”.\n",
    "- Income: (Ordered variable) Question “p27”. It is divided in ranges\n",
    "- NumMembersAtHome: (Numeric Variable). Question “p5”. Number of people who live in the\n",
    "household."
   ]
  },
  {
   "cell_type": "code",
   "execution_count": 71,
   "id": "92561215",
   "metadata": {},
   "outputs": [],
   "source": [
    "#save variable\n",
    "df['save'] = pd.Series(np.nan, index = df.index)\n",
    "df['save'] = np.where((df['p55_1']== 1) | (df['p55_2']== 1) | (df['p55_3']== 1) | (df['p55_4']== 1) | (df['p55_5']== 1) | (df['p55_6']== 1), 1, df['save'])\n",
    "df['save'] = np.where((df['p55_7']== 1) | (df['p55_8']== 1), 0, df['save'])\n",
    "df.dropna(subset=['save'], axis = 0, how = 'any', inplace = True)"
   ]
  },
  {
   "cell_type": "code",
   "execution_count": 72,
   "id": "04a26be7",
   "metadata": {},
   "outputs": [
    {
     "name": "stdout",
     "output_type": "stream",
     "text": [
      "<class 'pandas.core.frame.DataFrame'>\n",
      "Int64Index: 6299 entries, 0 to 6304\n",
      "Columns: 506 entries, sbs_id to save\n",
      "dtypes: float32(4), float64(491), int16(1), int8(2), object(8)\n",
      "memory usage: 24.1+ MB\n"
     ]
    }
   ],
   "source": [
    "df.info()"
   ]
  },
  {
   "cell_type": "code",
   "execution_count": 73,
   "id": "a639dd45",
   "metadata": {},
   "outputs": [
    {
     "name": "stdout",
     "output_type": "stream",
     "text": [
      "<class 'pandas.core.frame.DataFrame'>\n",
      "Int64Index: 6299 entries, 0 to 6304\n",
      "Data columns (total 7 columns):\n",
      " #   Column            Non-Null Count  Dtype  \n",
      "---  ------            --------------  -----  \n",
      " 0   save              6299 non-null   float64\n",
      " 1   age               6299 non-null   float64\n",
      " 2   levelEducation    6299 non-null   float64\n",
      " 3   maritalStatus     6282 non-null   float64\n",
      " 4   sex               6299 non-null   float64\n",
      " 5   income            4544 non-null   float64\n",
      " 6   numMembersAtHome  6298 non-null   float64\n",
      "dtypes: float64(7)\n",
      "memory usage: 393.7 KB\n"
     ]
    }
   ],
   "source": [
    "#rename the columns\n",
    "df.rename(columns = {'p3':'age', 'p8':'levelEducation', 'p4':'maritalStatus', 'p2':'sex', 'p27':'income', 'p5':'numMembersAtHome'}, inplace = True)\n",
    "\n",
    "#subset the data\n",
    "df = df[['save', 'age', 'levelEducation', 'maritalStatus', 'sex', 'income', 'numMembersAtHome']]\n",
    "\n",
    "#info\n",
    "df.info()"
   ]
  },
  {
   "cell_type": "code",
   "execution_count": 74,
   "id": "45acf80d",
   "metadata": {},
   "outputs": [
    {
     "data": {
      "text/html": [
       "<div>\n",
       "<style scoped>\n",
       "    .dataframe tbody tr th:only-of-type {\n",
       "        vertical-align: middle;\n",
       "    }\n",
       "\n",
       "    .dataframe tbody tr th {\n",
       "        vertical-align: top;\n",
       "    }\n",
       "\n",
       "    .dataframe thead th {\n",
       "        text-align: right;\n",
       "    }\n",
       "</style>\n",
       "<table border=\"1\" class=\"dataframe\">\n",
       "  <thead>\n",
       "    <tr style=\"text-align: right;\">\n",
       "      <th></th>\n",
       "      <th>save</th>\n",
       "      <th>age</th>\n",
       "      <th>levelEducation</th>\n",
       "      <th>maritalStatus</th>\n",
       "      <th>sex</th>\n",
       "      <th>income</th>\n",
       "      <th>numMembersAtHome</th>\n",
       "    </tr>\n",
       "  </thead>\n",
       "  <tbody>\n",
       "    <tr>\n",
       "      <th>count</th>\n",
       "      <td>6299.000000</td>\n",
       "      <td>6299.000000</td>\n",
       "      <td>6299.000000</td>\n",
       "      <td>6282.000000</td>\n",
       "      <td>6299.000000</td>\n",
       "      <td>4544.000000</td>\n",
       "      <td>6298.000000</td>\n",
       "    </tr>\n",
       "    <tr>\n",
       "      <th>mean</th>\n",
       "      <td>0.420702</td>\n",
       "      <td>41.785839</td>\n",
       "      <td>5.760438</td>\n",
       "      <td>1.890003</td>\n",
       "      <td>0.583902</td>\n",
       "      <td>2.625660</td>\n",
       "      <td>4.255954</td>\n",
       "    </tr>\n",
       "    <tr>\n",
       "      <th>std</th>\n",
       "      <td>0.493711</td>\n",
       "      <td>14.554625</td>\n",
       "      <td>2.285494</td>\n",
       "      <td>0.545201</td>\n",
       "      <td>0.492949</td>\n",
       "      <td>1.554233</td>\n",
       "      <td>1.999659</td>\n",
       "    </tr>\n",
       "    <tr>\n",
       "      <th>min</th>\n",
       "      <td>0.000000</td>\n",
       "      <td>-8.000000</td>\n",
       "      <td>1.000000</td>\n",
       "      <td>1.000000</td>\n",
       "      <td>0.000000</td>\n",
       "      <td>-8.000000</td>\n",
       "      <td>-8.000000</td>\n",
       "    </tr>\n",
       "    <tr>\n",
       "      <th>25%</th>\n",
       "      <td>0.000000</td>\n",
       "      <td>30.000000</td>\n",
       "      <td>4.000000</td>\n",
       "      <td>2.000000</td>\n",
       "      <td>0.000000</td>\n",
       "      <td>1.000000</td>\n",
       "      <td>3.000000</td>\n",
       "    </tr>\n",
       "    <tr>\n",
       "      <th>50%</th>\n",
       "      <td>0.000000</td>\n",
       "      <td>41.000000</td>\n",
       "      <td>6.000000</td>\n",
       "      <td>2.000000</td>\n",
       "      <td>1.000000</td>\n",
       "      <td>2.000000</td>\n",
       "      <td>4.000000</td>\n",
       "    </tr>\n",
       "    <tr>\n",
       "      <th>75%</th>\n",
       "      <td>1.000000</td>\n",
       "      <td>53.000000</td>\n",
       "      <td>7.000000</td>\n",
       "      <td>2.000000</td>\n",
       "      <td>1.000000</td>\n",
       "      <td>4.000000</td>\n",
       "      <td>5.000000</td>\n",
       "    </tr>\n",
       "    <tr>\n",
       "      <th>max</th>\n",
       "      <td>1.000000</td>\n",
       "      <td>70.000000</td>\n",
       "      <td>11.000000</td>\n",
       "      <td>3.000000</td>\n",
       "      <td>1.000000</td>\n",
       "      <td>6.000000</td>\n",
       "      <td>20.000000</td>\n",
       "    </tr>\n",
       "  </tbody>\n",
       "</table>\n",
       "</div>"
      ],
      "text/plain": [
       "              save          age  levelEducation  maritalStatus          sex  \\\n",
       "count  6299.000000  6299.000000     6299.000000    6282.000000  6299.000000   \n",
       "mean      0.420702    41.785839        5.760438       1.890003     0.583902   \n",
       "std       0.493711    14.554625        2.285494       0.545201     0.492949   \n",
       "min       0.000000    -8.000000        1.000000       1.000000     0.000000   \n",
       "25%       0.000000    30.000000        4.000000       2.000000     0.000000   \n",
       "50%       0.000000    41.000000        6.000000       2.000000     1.000000   \n",
       "75%       1.000000    53.000000        7.000000       2.000000     1.000000   \n",
       "max       1.000000    70.000000       11.000000       3.000000     1.000000   \n",
       "\n",
       "            income  numMembersAtHome  \n",
       "count  4544.000000       6298.000000  \n",
       "mean      2.625660          4.255954  \n",
       "std       1.554233          1.999659  \n",
       "min      -8.000000         -8.000000  \n",
       "25%       1.000000          3.000000  \n",
       "50%       2.000000          4.000000  \n",
       "75%       4.000000          5.000000  \n",
       "max       6.000000         20.000000  "
      ]
     },
     "execution_count": 74,
     "metadata": {},
     "output_type": "execute_result"
    }
   ],
   "source": [
    "#check na values\n",
    "df.describe()"
   ]
  },
  {
   "cell_type": "markdown",
   "id": "24ef9427",
   "metadata": {},
   "source": [
    "There exist answers '-8.0' in reference to Nan values. They have to be replaced"
   ]
  },
  {
   "cell_type": "code",
   "execution_count": 75,
   "id": "d8dbc0a0",
   "metadata": {},
   "outputs": [],
   "source": [
    "#replace '-8.0' with nan\n",
    "for i in df:\n",
    "    df[i] = np.where(df[i] == -8, np.nan, df[i])"
   ]
  },
  {
   "cell_type": "code",
   "execution_count": 76,
   "id": "d94939e9",
   "metadata": {},
   "outputs": [
    {
     "data": {
      "text/plain": [
       "save                0.000000\n",
       "age                 0.000635\n",
       "levelEducation      0.000000\n",
       "maritalStatus       0.002699\n",
       "sex                 0.000000\n",
       "income              0.279727\n",
       "numMembersAtHome    0.001270\n",
       "dtype: float64"
      ]
     },
     "execution_count": 76,
     "metadata": {},
     "output_type": "execute_result"
    }
   ],
   "source": [
    "#check the proportion of nan values in each variable\n",
    "df.isnull().mean()"
   ]
  },
  {
   "cell_type": "markdown",
   "id": "94fddc88",
   "metadata": {},
   "source": [
    "Due to the fact that the proportion of nan values is relatively low, it will be better to drop nan values. The sample will be reduced in just 27% aprox. Another way to deal with nan values is to replac them with the mean or the mode (in case of categorical values)."
   ]
  },
  {
   "cell_type": "code",
   "execution_count": 77,
   "id": "96fc72f1",
   "metadata": {},
   "outputs": [],
   "source": [
    "#drop nan values\n",
    "df.dropna(axis=0, how ='any', inplace=True)\n"
   ]
  },
  {
   "cell_type": "code",
   "execution_count": 78,
   "id": "ef216994",
   "metadata": {},
   "outputs": [
    {
     "data": {
      "text/html": [
       "<div>\n",
       "<style scoped>\n",
       "    .dataframe tbody tr th:only-of-type {\n",
       "        vertical-align: middle;\n",
       "    }\n",
       "\n",
       "    .dataframe tbody tr th {\n",
       "        vertical-align: top;\n",
       "    }\n",
       "\n",
       "    .dataframe thead th {\n",
       "        text-align: right;\n",
       "    }\n",
       "</style>\n",
       "<table border=\"1\" class=\"dataframe\">\n",
       "  <thead>\n",
       "    <tr style=\"text-align: right;\">\n",
       "      <th></th>\n",
       "      <th>save</th>\n",
       "      <th>age</th>\n",
       "      <th>levelEducation</th>\n",
       "      <th>maritalStatus</th>\n",
       "      <th>sex</th>\n",
       "      <th>income</th>\n",
       "      <th>numMembersAtHome</th>\n",
       "    </tr>\n",
       "  </thead>\n",
       "  <tbody>\n",
       "    <tr>\n",
       "      <th>count</th>\n",
       "      <td>4516.000000</td>\n",
       "      <td>4516.000000</td>\n",
       "      <td>4516.000000</td>\n",
       "      <td>4516.000000</td>\n",
       "      <td>4516.000000</td>\n",
       "      <td>4516.000000</td>\n",
       "      <td>4516.000000</td>\n",
       "    </tr>\n",
       "    <tr>\n",
       "      <th>mean</th>\n",
       "      <td>0.492471</td>\n",
       "      <td>42.749779</td>\n",
       "      <td>5.891497</td>\n",
       "      <td>1.901683</td>\n",
       "      <td>0.479628</td>\n",
       "      <td>2.642161</td>\n",
       "      <td>4.180027</td>\n",
       "    </tr>\n",
       "    <tr>\n",
       "      <th>std</th>\n",
       "      <td>0.499999</td>\n",
       "      <td>13.892446</td>\n",
       "      <td>2.317579</td>\n",
       "      <td>0.556119</td>\n",
       "      <td>0.499640</td>\n",
       "      <td>1.498891</td>\n",
       "      <td>1.961232</td>\n",
       "    </tr>\n",
       "    <tr>\n",
       "      <th>min</th>\n",
       "      <td>0.000000</td>\n",
       "      <td>18.000000</td>\n",
       "      <td>1.000000</td>\n",
       "      <td>1.000000</td>\n",
       "      <td>0.000000</td>\n",
       "      <td>1.000000</td>\n",
       "      <td>1.000000</td>\n",
       "    </tr>\n",
       "    <tr>\n",
       "      <th>25%</th>\n",
       "      <td>0.000000</td>\n",
       "      <td>32.000000</td>\n",
       "      <td>4.000000</td>\n",
       "      <td>2.000000</td>\n",
       "      <td>0.000000</td>\n",
       "      <td>1.000000</td>\n",
       "      <td>3.000000</td>\n",
       "    </tr>\n",
       "    <tr>\n",
       "      <th>50%</th>\n",
       "      <td>0.000000</td>\n",
       "      <td>42.000000</td>\n",
       "      <td>6.000000</td>\n",
       "      <td>2.000000</td>\n",
       "      <td>0.000000</td>\n",
       "      <td>2.000000</td>\n",
       "      <td>4.000000</td>\n",
       "    </tr>\n",
       "    <tr>\n",
       "      <th>75%</th>\n",
       "      <td>1.000000</td>\n",
       "      <td>53.000000</td>\n",
       "      <td>8.000000</td>\n",
       "      <td>2.000000</td>\n",
       "      <td>1.000000</td>\n",
       "      <td>4.000000</td>\n",
       "      <td>5.000000</td>\n",
       "    </tr>\n",
       "    <tr>\n",
       "      <th>max</th>\n",
       "      <td>1.000000</td>\n",
       "      <td>70.000000</td>\n",
       "      <td>11.000000</td>\n",
       "      <td>3.000000</td>\n",
       "      <td>1.000000</td>\n",
       "      <td>6.000000</td>\n",
       "      <td>19.000000</td>\n",
       "    </tr>\n",
       "  </tbody>\n",
       "</table>\n",
       "</div>"
      ],
      "text/plain": [
       "              save          age  levelEducation  maritalStatus          sex  \\\n",
       "count  4516.000000  4516.000000     4516.000000    4516.000000  4516.000000   \n",
       "mean      0.492471    42.749779        5.891497       1.901683     0.479628   \n",
       "std       0.499999    13.892446        2.317579       0.556119     0.499640   \n",
       "min       0.000000    18.000000        1.000000       1.000000     0.000000   \n",
       "25%       0.000000    32.000000        4.000000       2.000000     0.000000   \n",
       "50%       0.000000    42.000000        6.000000       2.000000     0.000000   \n",
       "75%       1.000000    53.000000        8.000000       2.000000     1.000000   \n",
       "max       1.000000    70.000000       11.000000       3.000000     1.000000   \n",
       "\n",
       "            income  numMembersAtHome  \n",
       "count  4516.000000       4516.000000  \n",
       "mean      2.642161          4.180027  \n",
       "std       1.498891          1.961232  \n",
       "min       1.000000          1.000000  \n",
       "25%       1.000000          3.000000  \n",
       "50%       2.000000          4.000000  \n",
       "75%       4.000000          5.000000  \n",
       "max       6.000000         19.000000  "
      ]
     },
     "execution_count": 78,
     "metadata": {},
     "output_type": "execute_result"
    }
   ],
   "source": [
    "df.describe()"
   ]
  },
  {
   "cell_type": "code",
   "execution_count": 79,
   "id": "e7842e65",
   "metadata": {},
   "outputs": [],
   "source": [
    "#change the type of each variable\n",
    "df = df.astype({'save':'uint8', 'age':'int64', 'levelEducation':'str', 'maritalStatus':'str', 'sex':'uint8', 'income':'str', 'numMembersAtHome':'int64'}, errors='ignore')"
   ]
  },
  {
   "cell_type": "code",
   "execution_count": 80,
   "id": "08503b06",
   "metadata": {},
   "outputs": [
    {
     "data": {
      "text/html": [
       "<div>\n",
       "<style scoped>\n",
       "    .dataframe tbody tr th:only-of-type {\n",
       "        vertical-align: middle;\n",
       "    }\n",
       "\n",
       "    .dataframe tbody tr th {\n",
       "        vertical-align: top;\n",
       "    }\n",
       "\n",
       "    .dataframe thead th {\n",
       "        text-align: right;\n",
       "    }\n",
       "</style>\n",
       "<table border=\"1\" class=\"dataframe\">\n",
       "  <thead>\n",
       "    <tr style=\"text-align: right;\">\n",
       "      <th></th>\n",
       "      <th>save</th>\n",
       "      <th>age</th>\n",
       "      <th>levelEducation</th>\n",
       "      <th>maritalStatus</th>\n",
       "      <th>sex</th>\n",
       "      <th>income</th>\n",
       "      <th>numMembersAtHome</th>\n",
       "    </tr>\n",
       "  </thead>\n",
       "  <tbody>\n",
       "    <tr>\n",
       "      <th>0</th>\n",
       "      <td>1</td>\n",
       "      <td>33</td>\n",
       "      <td>3.0</td>\n",
       "      <td>2.0</td>\n",
       "      <td>1</td>\n",
       "      <td>1.0</td>\n",
       "      <td>3</td>\n",
       "    </tr>\n",
       "    <tr>\n",
       "      <th>2</th>\n",
       "      <td>0</td>\n",
       "      <td>53</td>\n",
       "      <td>6.0</td>\n",
       "      <td>2.0</td>\n",
       "      <td>1</td>\n",
       "      <td>1.0</td>\n",
       "      <td>3</td>\n",
       "    </tr>\n",
       "    <tr>\n",
       "      <th>3</th>\n",
       "      <td>1</td>\n",
       "      <td>35</td>\n",
       "      <td>4.0</td>\n",
       "      <td>1.0</td>\n",
       "      <td>0</td>\n",
       "      <td>2.0</td>\n",
       "      <td>5</td>\n",
       "    </tr>\n",
       "    <tr>\n",
       "      <th>5</th>\n",
       "      <td>1</td>\n",
       "      <td>40</td>\n",
       "      <td>1.0</td>\n",
       "      <td>2.0</td>\n",
       "      <td>1</td>\n",
       "      <td>2.0</td>\n",
       "      <td>3</td>\n",
       "    </tr>\n",
       "    <tr>\n",
       "      <th>6</th>\n",
       "      <td>1</td>\n",
       "      <td>34</td>\n",
       "      <td>6.0</td>\n",
       "      <td>2.0</td>\n",
       "      <td>0</td>\n",
       "      <td>3.0</td>\n",
       "      <td>4</td>\n",
       "    </tr>\n",
       "    <tr>\n",
       "      <th>...</th>\n",
       "      <td>...</td>\n",
       "      <td>...</td>\n",
       "      <td>...</td>\n",
       "      <td>...</td>\n",
       "      <td>...</td>\n",
       "      <td>...</td>\n",
       "      <td>...</td>\n",
       "    </tr>\n",
       "    <tr>\n",
       "      <th>6300</th>\n",
       "      <td>1</td>\n",
       "      <td>34</td>\n",
       "      <td>10.0</td>\n",
       "      <td>2.0</td>\n",
       "      <td>1</td>\n",
       "      <td>4.0</td>\n",
       "      <td>2</td>\n",
       "    </tr>\n",
       "    <tr>\n",
       "      <th>6301</th>\n",
       "      <td>1</td>\n",
       "      <td>65</td>\n",
       "      <td>10.0</td>\n",
       "      <td>3.0</td>\n",
       "      <td>0</td>\n",
       "      <td>1.0</td>\n",
       "      <td>8</td>\n",
       "    </tr>\n",
       "    <tr>\n",
       "      <th>6302</th>\n",
       "      <td>1</td>\n",
       "      <td>30</td>\n",
       "      <td>10.0</td>\n",
       "      <td>2.0</td>\n",
       "      <td>1</td>\n",
       "      <td>6.0</td>\n",
       "      <td>4</td>\n",
       "    </tr>\n",
       "    <tr>\n",
       "      <th>6303</th>\n",
       "      <td>1</td>\n",
       "      <td>54</td>\n",
       "      <td>11.0</td>\n",
       "      <td>2.0</td>\n",
       "      <td>0</td>\n",
       "      <td>6.0</td>\n",
       "      <td>4</td>\n",
       "    </tr>\n",
       "    <tr>\n",
       "      <th>6304</th>\n",
       "      <td>1</td>\n",
       "      <td>28</td>\n",
       "      <td>8.0</td>\n",
       "      <td>2.0</td>\n",
       "      <td>0</td>\n",
       "      <td>3.0</td>\n",
       "      <td>5</td>\n",
       "    </tr>\n",
       "  </tbody>\n",
       "</table>\n",
       "<p>4516 rows × 7 columns</p>\n",
       "</div>"
      ],
      "text/plain": [
       "      save  age levelEducation maritalStatus  sex income  numMembersAtHome\n",
       "0        1   33            3.0           2.0    1    1.0                 3\n",
       "2        0   53            6.0           2.0    1    1.0                 3\n",
       "3        1   35            4.0           1.0    0    2.0                 5\n",
       "5        1   40            1.0           2.0    1    2.0                 3\n",
       "6        1   34            6.0           2.0    0    3.0                 4\n",
       "...    ...  ...            ...           ...  ...    ...               ...\n",
       "6300     1   34           10.0           2.0    1    4.0                 2\n",
       "6301     1   65           10.0           3.0    0    1.0                 8\n",
       "6302     1   30           10.0           2.0    1    6.0                 4\n",
       "6303     1   54           11.0           2.0    0    6.0                 4\n",
       "6304     1   28            8.0           2.0    0    3.0                 5\n",
       "\n",
       "[4516 rows x 7 columns]"
      ]
     },
     "execution_count": 80,
     "metadata": {},
     "output_type": "execute_result"
    }
   ],
   "source": [
    "df"
   ]
  },
  {
   "cell_type": "code",
   "execution_count": 81,
   "id": "49799644",
   "metadata": {},
   "outputs": [],
   "source": [
    "#Labeling the values of variables\n",
    "df['save'] = df['save'].replace(['0.0', '1.0'], [0, 1])\n",
    "df['levelEducation'] = df['levelEducation'].replace(['1.0', '2.0', '3.0', '4.0', '5.0', '6.0', '7.0', '8.0', '9.0', '10.0', '11.0'], \\\n",
    "                                          ['noEducation', 'kindergarten','incompletePrimary', 'completePrimary', 'incompleteSecondary',\\\n",
    "                                          'completeSecondary', 'incompleteTechnical', 'completeTechnical', 'incompleteUniversity',\\\n",
    "                                          'completeUniversity', 'Postgrade'])\n",
    "df['maritalStatus'] = df['maritalStatus'].replace(['1.0', '2.0', '3.0'], ['single', 'married', 'divorced'])\n",
    "df['sex'] = df['sex'].replace(['0.0', '1.0'], ['male', 'female'])\n",
    "df['income'] = df['income'].replace(['1.0', '2.0', '3.0', '4.0', '5.0', '6.0'], ['<400', '<400,750>', '<750,1022>', '<1022,1500>', '<1500,2100>', '>2100'])"
   ]
  },
  {
   "cell_type": "markdown",
   "id": "cc441af0",
   "metadata": {},
   "source": [
    "## Graphical analysis"
   ]
  },
  {
   "cell_type": "markdown",
   "id": "8258f858",
   "metadata": {},
   "source": [
    "### Level of Education"
   ]
  },
  {
   "cell_type": "code",
   "execution_count": 82,
   "id": "4c274184",
   "metadata": {},
   "outputs": [
    {
     "data": {
      "text/plain": [
       "<function matplotlib.pyplot.tight_layout(*, pad=1.08, h_pad=None, w_pad=None, rect=None)>"
      ]
     },
     "execution_count": 82,
     "metadata": {},
     "output_type": "execute_result"
    },
    {
     "data": {
      "image/png": "[encoded data removed]",
      "text/plain": [
       "<Figure size 792x504 with 1 Axes>"
      ]
     },
     "metadata": {
      "needs_background": "light"
     },
     "output_type": "display_data"
    }
   ],
   "source": [
    "plt.figure(figsize=(11,7))\n",
    "#Level of education\n",
    "#transform it to categorical and give it order\n",
    "df['levelEducation'] = pd.Categorical(df['levelEducation'], categories = ['noEducation', 'kindergarten','incompletePrimary', 'completePrimary', 'incompleteSecondary',\\\n",
    "                                          'completeSecondary', 'incompleteTechnical', 'incompleteUniversity','completeTechnical', \\\n",
    "                                          'completeUniversity', 'Postgrade'], ordered = True)\n",
    "sns.countplot(x='levelEducation',hue='save',data=df,palette='Set1')\n",
    "locs, labels = plt.xticks()\n",
    "plt.setp(labels, rotation=45)\n",
    "plt.tight_layout"
   ]
  },
  {
   "cell_type": "markdown",
   "id": "b4b51a69",
   "metadata": {},
   "source": [
    "Is higher the level of education reached, higher is the proportion of people who save for retirement"
   ]
  },
  {
   "cell_type": "code",
   "execution_count": 83,
   "id": "a9a86f37",
   "metadata": {},
   "outputs": [],
   "source": [
    "from scipy import stats"
   ]
  },
  {
   "cell_type": "code",
   "execution_count": 84,
   "id": "466688b4",
   "metadata": {},
   "outputs": [
    {
     "data": {
      "text/plain": [
       "(350.58339700360074,\n",
       " 2.996286224606275e-69,\n",
       " 10,\n",
       " array([[ 80.69707706,   4.56775908, 276.60318866, 305.02480071,\n",
       "         294.87422498, 646.08414526, 106.07351639,  94.4003543 ,\n",
       "         215.19220549, 254.27192205,  14.21080602],\n",
       "        [ 78.30292294,   4.43224092, 268.39681134, 295.97519929,\n",
       "         286.12577502, 626.91585474, 102.92648361,  91.5996457 ,\n",
       "         208.80779451, 246.72807795,  13.78919398]]))"
      ]
     },
     "execution_count": 84,
     "metadata": {},
     "output_type": "execute_result"
    }
   ],
   "source": [
    "#chi square of independence\n",
    "crosstab = pd.crosstab(df[\"save\"], df[\"levelEducation\"])\n",
    "stats.chi2_contingency(crosstab)"
   ]
  },
  {
   "cell_type": "markdown",
   "id": "93181462",
   "metadata": {},
   "source": [
    "X2 test of independence give a pvalue<0.001, therefore it could be affirmed that there exist a relationship between this two variables"
   ]
  },
  {
   "cell_type": "markdown",
   "id": "178f2c08",
   "metadata": {},
   "source": [
    "### Marital Status"
   ]
  },
  {
   "cell_type": "code",
   "execution_count": 85,
   "id": "8b40bdc1",
   "metadata": {},
   "outputs": [
    {
     "data": {
      "text/plain": [
       "<function matplotlib.pyplot.tight_layout(*, pad=1.08, h_pad=None, w_pad=None, rect=None)>"
      ]
     },
     "execution_count": 85,
     "metadata": {},
     "output_type": "execute_result"
    },
    {
     "data": {
      "image/png": "[encoded data removed]",
      "text/plain": [
       "<Figure size 792x504 with 1 Axes>"
      ]
     },
     "metadata": {
      "needs_background": "light"
     },
     "output_type": "display_data"
    }
   ],
   "source": [
    "#Marital Status\n",
    "plt.figure(figsize=(11,7))\n",
    "sns.countplot(x='maritalStatus',hue='save',data=df,palette='Set1')\n",
    "plt.tight_layout"
   ]
  },
  {
   "cell_type": "markdown",
   "id": "ad0d04a3",
   "metadata": {},
   "source": [
    "Divorced and single people have a lower proportion of saving for retirement"
   ]
  },
  {
   "cell_type": "code",
   "execution_count": 86,
   "id": "3bcb8e3e",
   "metadata": {},
   "outputs": [
    {
     "data": {
      "text/plain": [
       "(23.65933917031431,\n",
       " 7.285171441087505e-06,\n",
       " 2,\n",
       " array([[ 252.7493357 , 1561.15854739,  478.09211692],\n",
       "        [ 245.2506643 , 1514.84145261,  463.90788308]]))"
      ]
     },
     "execution_count": 86,
     "metadata": {},
     "output_type": "execute_result"
    }
   ],
   "source": [
    "#chi square of independence\n",
    "crosstab = pd.crosstab(df[\"save\"], df[\"maritalStatus\"])\n",
    "stats.chi2_contingency(crosstab)"
   ]
  },
  {
   "cell_type": "markdown",
   "id": "4cafb08a",
   "metadata": {},
   "source": [
    "X2 test of independence give a pvalue<0.001, therefore it could be affirmed that there exist a relationship between this two variables"
   ]
  },
  {
   "cell_type": "markdown",
   "id": "4593830f",
   "metadata": {},
   "source": [
    "### Sex"
   ]
  },
  {
   "cell_type": "code",
   "execution_count": 87,
   "id": "b06f961f",
   "metadata": {},
   "outputs": [
    {
     "data": {
      "text/plain": [
       "<function matplotlib.pyplot.tight_layout(*, pad=1.08, h_pad=None, w_pad=None, rect=None)>"
      ]
     },
     "execution_count": 87,
     "metadata": {},
     "output_type": "execute_result"
    },
    {
     "data": {
      "image/png": "[encoded data removed]",
      "text/plain": [
       "<Figure size 792x504 with 1 Axes>"
      ]
     },
     "metadata": {
      "needs_background": "light"
     },
     "output_type": "display_data"
    }
   ],
   "source": [
    "plt.figure(figsize=(11,7))\n",
    "sns.countplot(x='sex',hue='save',data=df,palette='Set1')\n",
    "plt.tight_layout"
   ]
  },
  {
   "cell_type": "markdown",
   "id": "3b2b422d",
   "metadata": {},
   "source": [
    "Males have a higher proportion of saving for retirement"
   ]
  },
  {
   "cell_type": "code",
   "execution_count": 88,
   "id": "e43cc5ce",
   "metadata": {},
   "outputs": [
    {
     "data": {
      "text/plain": [
       "(19.016080727857254,\n",
       " 1.2962145808954675e-05,\n",
       " 1,\n",
       " array([[1192.69264836, 1099.30735164],\n",
       "        [1157.30735164, 1066.69264836]]))"
      ]
     },
     "execution_count": 88,
     "metadata": {},
     "output_type": "execute_result"
    }
   ],
   "source": [
    "#chi square of independence\n",
    "crosstab = pd.crosstab(df[\"save\"], df[\"sex\"])\n",
    "stats.chi2_contingency(crosstab)"
   ]
  },
  {
   "cell_type": "markdown",
   "id": "ec52277e",
   "metadata": {},
   "source": [
    "X2 test of independence give a pvalue<0.001, therefore it could be affirmed that there exist a relationship between this two variables"
   ]
  },
  {
   "cell_type": "markdown",
   "id": "60c40d5e",
   "metadata": {},
   "source": [
    "### Income"
   ]
  },
  {
   "cell_type": "code",
   "execution_count": 89,
   "id": "e58629b5",
   "metadata": {},
   "outputs": [
    {
     "data": {
      "text/plain": [
       "<function matplotlib.pyplot.tight_layout(*, pad=1.08, h_pad=None, w_pad=None, rect=None)>"
      ]
     },
     "execution_count": 89,
     "metadata": {},
     "output_type": "execute_result"
    },
    {
     "data": {
      "image/png": "[encoded data removed]",
      "text/plain": [
       "<Figure size 792x504 with 1 Axes>"
      ]
     },
     "metadata": {
      "needs_background": "light"
     },
     "output_type": "display_data"
    }
   ],
   "source": [
    "plt.figure(figsize=(11,7))\n",
    "#Income\n",
    "#transform it to categorical and give it order\n",
    "df['income'] = pd.Categorical(df['income'], categories = ['<400', '<400,750>', '<750,1022>', '<1022,1500>', '<1500,2100>', '>2100'] , ordered = True)\n",
    "sns.countplot(x='income',hue='save',data=df,palette='Set1')\n",
    "plt.tight_layout"
   ]
  },
  {
   "cell_type": "markdown",
   "id": "a53d39d6",
   "metadata": {},
   "source": [
    "Clearly, people who earn more than 750 soles per month have a higher proportion of saving for retirement"
   ]
  },
  {
   "cell_type": "code",
   "execution_count": 90,
   "id": "4afd8fb6",
   "metadata": {},
   "outputs": [
    {
     "data": {
      "text/plain": [
       "(358.21990255086877,\n",
       " 2.973116188738553e-75,\n",
       " 5,\n",
       " array([[653.18954827, 582.64304694, 434.44464128, 316.19043401,\n",
       "         163.93179805, 141.60053144],\n",
       "        [633.81045173, 565.35695306, 421.55535872, 306.80956599,\n",
       "         159.06820195, 137.39946856]]))"
      ]
     },
     "execution_count": 90,
     "metadata": {},
     "output_type": "execute_result"
    }
   ],
   "source": [
    "#chi square of independence\n",
    "crosstab = pd.crosstab(df[\"save\"], df[\"income\"])\n",
    "stats.chi2_contingency(crosstab)"
   ]
  },
  {
   "cell_type": "markdown",
   "id": "3ec08e3a",
   "metadata": {},
   "source": [
    "X2 test of independence give a pvalue<0.001, therefore it could be affirmed that there exist a relationship between this two variables"
   ]
  },
  {
   "cell_type": "markdown",
   "id": "39dbc353",
   "metadata": {},
   "source": [
    "### Age"
   ]
  },
  {
   "cell_type": "code",
   "execution_count": 91,
   "id": "b984f889",
   "metadata": {},
   "outputs": [
    {
     "data": {
      "text/plain": [
       "<AxesSubplot:xlabel='save', ylabel='age'>"
      ]
     },
     "execution_count": 91,
     "metadata": {},
     "output_type": "execute_result"
    },
    {
     "data": {
      "image/png": "[encoded data removed]",
      "text/plain": [
       "<Figure size 792x504 with 1 Axes>"
      ]
     },
     "metadata": {
      "needs_background": "light"
     },
     "output_type": "display_data"
    }
   ],
   "source": [
    "plt.figure(figsize=(11,7))\n",
    "sns.boxplot(x='save', y = 'age', data = df, palette = 'Set1')"
   ]
  },
  {
   "cell_type": "markdown",
   "id": "21dc52e2",
   "metadata": {},
   "source": [
    "The medians of both groups, people who and not save, are very close; though the group of people who save has a higher median of age."
   ]
  },
  {
   "cell_type": "markdown",
   "id": "90824f0f",
   "metadata": {},
   "source": [
    "### Number of members at home"
   ]
  },
  {
   "cell_type": "code",
   "execution_count": 92,
   "id": "ff19e96d",
   "metadata": {},
   "outputs": [
    {
     "data": {
      "text/plain": [
       "<AxesSubplot:xlabel='save', ylabel='numMembersAtHome'>"
      ]
     },
     "execution_count": 92,
     "metadata": {},
     "output_type": "execute_result"
    },
    {
     "data": {
      "image/png": "[encoded data removed]",
      "text/plain": [
       "<Figure size 792x504 with 1 Axes>"
      ]
     },
     "metadata": {
      "needs_background": "light"
     },
     "output_type": "display_data"
    }
   ],
   "source": [
    "plt.figure(figsize=(11,7))\n",
    "sns.boxplot(x='save', y = 'numMembersAtHome', data = df, palette = 'Set1')"
   ]
  },
  {
   "cell_type": "markdown",
   "id": "7721c7b6",
   "metadata": {},
   "source": [
    "The distributions of both groups are very similar. Also, there are several outliers."
   ]
  },
  {
   "cell_type": "markdown",
   "id": "31ef1955",
   "metadata": {},
   "source": [
    "## Logistic Regression"
   ]
  },
  {
   "cell_type": "code",
   "execution_count": 93,
   "id": "f0b1a299",
   "metadata": {},
   "outputs": [],
   "source": [
    "from sklearn.model_selection import train_test_split"
   ]
  },
  {
   "cell_type": "code",
   "execution_count": 94,
   "id": "976942cd",
   "metadata": {},
   "outputs": [],
   "source": [
    "#convert the categorical variables to dummies:\n",
    "catvars= df[df.columns].select_dtypes(include = ['object', 'category'])"
   ]
  },
  {
   "cell_type": "code",
   "execution_count": 95,
   "id": "2b018bc3",
   "metadata": {},
   "outputs": [],
   "source": [
    "for i in catvars.columns:\n",
    "    df = pd.concat([pd.get_dummies(df[i], drop_first=True), df.drop([i], axis = 1)], axis=1)"
   ]
  },
  {
   "cell_type": "code",
   "execution_count": 96,
   "id": "edcdf840",
   "metadata": {},
   "outputs": [
    {
     "name": "stdout",
     "output_type": "stream",
     "text": [
      "<class 'pandas.core.frame.DataFrame'>\n",
      "Int64Index: 4516 entries, 0 to 6304\n",
      "Data columns (total 21 columns):\n",
      " #   Column                Non-Null Count  Dtype\n",
      "---  ------                --------------  -----\n",
      " 0   <400,750>             4516 non-null   uint8\n",
      " 1   <750,1022>            4516 non-null   uint8\n",
      " 2   <1022,1500>           4516 non-null   uint8\n",
      " 3   <1500,2100>           4516 non-null   uint8\n",
      " 4   >2100                 4516 non-null   uint8\n",
      " 5   married               4516 non-null   uint8\n",
      " 6   single                4516 non-null   uint8\n",
      " 7   kindergarten          4516 non-null   uint8\n",
      " 8   incompletePrimary     4516 non-null   uint8\n",
      " 9   completePrimary       4516 non-null   uint8\n",
      " 10  incompleteSecondary   4516 non-null   uint8\n",
      " 11  completeSecondary     4516 non-null   uint8\n",
      " 12  incompleteTechnical   4516 non-null   uint8\n",
      " 13  incompleteUniversity  4516 non-null   uint8\n",
      " 14  completeTechnical     4516 non-null   uint8\n",
      " 15  completeUniversity    4516 non-null   uint8\n",
      " 16  Postgrade             4516 non-null   uint8\n",
      " 17  save                  4516 non-null   uint8\n",
      " 18  age                   4516 non-null   int64\n",
      " 19  sex                   4516 non-null   uint8\n",
      " 20  numMembersAtHome      4516 non-null   int64\n",
      "dtypes: int64(2), uint8(19)\n",
      "memory usage: 318.7 KB\n"
     ]
    }
   ],
   "source": [
    "df.info()"
   ]
  },
  {
   "cell_type": "code",
   "execution_count": 97,
   "id": "b196a294",
   "metadata": {},
   "outputs": [
    {
     "data": {
      "text/plain": [
       "Index(['<400,750>', '<750,1022>', '<1022,1500>', '<1500,2100>', '>2100',\n",
       "       'married', 'single', 'kindergarten', 'incompletePrimary',\n",
       "       'completePrimary', 'incompleteSecondary', 'completeSecondary',\n",
       "       'incompleteTechnical', 'incompleteUniversity', 'completeTechnical',\n",
       "       'completeUniversity', 'Postgrade', 'save', 'age', 'sex',\n",
       "       'numMembersAtHome'],\n",
       "      dtype='object')"
      ]
     },
     "execution_count": 97,
     "metadata": {},
     "output_type": "execute_result"
    }
   ],
   "source": [
    "df.columns"
   ]
  },
  {
   "cell_type": "code",
   "execution_count": 99,
   "id": "1607b7f0",
   "metadata": {},
   "outputs": [],
   "source": [
    "#split the data\n",
    "X = df[['<400,750>', '<750,1022>', '<1022,1500>', '<1500,2100>', '>2100',\n",
    "       'sex', 'married', 'single', 'kindergarten', 'incompletePrimary',\n",
    "       'completePrimary', 'incompleteSecondary', 'completeSecondary',\n",
    "       'incompleteTechnical', 'incompleteUniversity', 'completeTechnical',\n",
    "       'completeUniversity', 'Postgrade', 'age', 'numMembersAtHome']]\n",
    "y = df['save']\n",
    "X_train, X_test, y_train, y_test = train_test_split(X, y, test_size=0.33, random_state=42)"
   ]
  },
  {
   "cell_type": "code",
   "execution_count": 100,
   "id": "2f3d5e18",
   "metadata": {},
   "outputs": [],
   "source": [
    "#logistic regression\n",
    "from sklearn.linear_model import LogisticRegression"
   ]
  },
  {
   "cell_type": "code",
   "execution_count": 101,
   "id": "481823f1",
   "metadata": {},
   "outputs": [
    {
     "data": {
      "text/plain": [
       "LogisticRegression(max_iter=1000)"
      ]
     },
     "execution_count": 101,
     "metadata": {},
     "output_type": "execute_result"
    }
   ],
   "source": [
    "logmodel = LogisticRegression(solver='lbfgs', max_iter=1000)\n",
    "logmodel.fit(X_train, y_train)"
   ]
  },
  {
   "cell_type": "code",
   "execution_count": 102,
   "id": "49745a53",
   "metadata": {},
   "outputs": [],
   "source": [
    "predictions = logmodel.predict(X_test)"
   ]
  },
  {
   "cell_type": "code",
   "execution_count": 103,
   "id": "806eb9f7",
   "metadata": {},
   "outputs": [],
   "source": [
    "from sklearn.metrics import classification_report"
   ]
  },
  {
   "cell_type": "code",
   "execution_count": 104,
   "id": "3e94ac70",
   "metadata": {},
   "outputs": [
    {
     "name": "stdout",
     "output_type": "stream",
     "text": [
      "              precision    recall  f1-score   support\n",
      "\n",
      "           0       0.63      0.71      0.67       741\n",
      "           1       0.67      0.58      0.62       750\n",
      "\n",
      "    accuracy                           0.65      1491\n",
      "   macro avg       0.65      0.65      0.64      1491\n",
      "weighted avg       0.65      0.65      0.64      1491\n",
      "\n"
     ]
    }
   ],
   "source": [
    "print(classification_report(y_test,predictions))"
   ]
  },
  {
   "cell_type": "markdown",
   "id": "64d38f0e",
   "metadata": {},
   "source": [
    "the model has a poor capacity for prediction"
   ]
  },
  {
   "cell_type": "code",
   "execution_count": 108,
   "id": "271bbe4e",
   "metadata": {},
   "outputs": [],
   "source": [
    "import statsmodels.api as sm\n",
    "from scipy import stats"
   ]
  },
  {
   "cell_type": "code",
   "execution_count": 110,
   "id": "139d8833",
   "metadata": {},
   "outputs": [
    {
     "name": "stdout",
     "output_type": "stream",
     "text": [
      "Optimization terminated successfully.\n",
      "         Current function value: 53.458013\n",
      "         Iterations 6\n",
      "                           Logit Regression Results                           \n",
      "==============================================================================\n",
      "Dep. Variable:                   save   No. Observations:                 3025\n",
      "Model:                          Logit   Df Residuals:                     3005\n",
      "Method:                           MLE   Df Model:                           19\n",
      "Date:                Mon, 17 Oct 2022   Pseudo R-squ.:                     inf\n",
      "Time:                        14:17:57   Log-Likelihood:            -1.6171e+05\n",
      "converged:                       True   LL-Null:                        0.0000\n",
      "Covariance Type:            nonrobust   LLR p-value:                     1.000\n",
      "========================================================================================\n",
      "                           coef    std err          z      P>|z|      [0.025      0.975]\n",
      "----------------------------------------------------------------------------------------\n",
      "<400,750>                0.0726      0.107      0.679      0.497      -0.137       0.282\n",
      "<750,1022>               0.6103      0.119      5.120      0.000       0.377       0.844\n",
      "<1022,1500>              0.9228      0.139      6.642      0.000       0.651       1.195\n",
      "<1500,2100>              1.0270      0.178      5.759      0.000       0.677       1.376\n",
      ">2100                    1.0617      0.195      5.431      0.000       0.679       1.445\n",
      "sex                     -0.2157      0.078     -2.775      0.006      -0.368      -0.063\n",
      "married                 -0.0969      0.125     -0.775      0.438      -0.342       0.148\n",
      "single                  -0.6584      0.147     -4.479      0.000      -0.946      -0.370\n",
      "kindergarten            -0.4526      0.853     -0.530      0.596      -2.125       1.220\n",
      "incompletePrimary       -0.1074      0.194     -0.555      0.579      -0.487       0.272\n",
      "completePrimary         -0.1089      0.191     -0.571      0.568      -0.482       0.265\n",
      "incompleteSecondary     -0.1832      0.189     -0.967      0.334      -0.555       0.188\n",
      "completeSecondary        0.0667      0.175      0.380      0.704      -0.277       0.411\n",
      "incompleteTechnical      0.5605      0.240      2.339      0.019       0.091       1.030\n",
      "incompleteUniversity     0.6578      0.252      2.611      0.009       0.164       1.151\n",
      "completeTechnical        0.5433      0.208      2.612      0.009       0.136       0.951\n",
      "completeUniversity       1.1660      0.219      5.321      0.000       0.737       1.596\n",
      "Postgrade                1.6561      0.776      2.133      0.033       0.135       3.178\n",
      "age                     -0.0026      0.002     -1.084      0.278      -0.007       0.002\n",
      "numMembersAtHome        -0.0467      0.020     -2.309      0.021      -0.086      -0.007\n",
      "========================================================================================\n"
     ]
    },
    {
     "name": "stderr",
     "output_type": "stream",
     "text": [
      "C:\\Anaconda\\lib\\site-packages\\statsmodels\\base\\model.py:547: HessianInversionWarning: Inverting hessian failed, no bse or cov_params available\n",
      "  warnings.warn('Inverting hessian failed, no bse or cov_params '\n",
      "C:\\Anaconda\\lib\\site-packages\\statsmodels\\base\\model.py:547: HessianInversionWarning: Inverting hessian failed, no bse or cov_params available\n",
      "  warnings.warn('Inverting hessian failed, no bse or cov_params '\n",
      "C:\\Anaconda\\lib\\site-packages\\statsmodels\\discrete\\discrete_model.py:3500: RuntimeWarning: divide by zero encountered in double_scalars\n",
      "  return 1 - self.llf/self.llnull\n"
     ]
    }
   ],
   "source": [
    "logit_model=sm.Logit(y_train,X_train)\n",
    "result=logit_model.fit()\n",
    "print(result.summary())"
   ]
  },
  {
   "cell_type": "code",
   "execution_count": 105,
   "id": "a2a312af",
   "metadata": {},
   "outputs": [],
   "source": [
    "logmodel.coef_.sort()\n",
    "coeff = pd.DataFrame(np.reshape(logmodel.coef_, (20,1)),  np.array(X.columns))\n",
    "coeff.columns = ['Coefficient']"
   ]
  },
  {
   "cell_type": "code",
   "execution_count": 106,
   "id": "1ee30776",
   "metadata": {},
   "outputs": [],
   "source": [
    "coeff['exp'] = np.exp(coeff['Coefficient'])"
   ]
  },
  {
   "cell_type": "code",
   "execution_count": 107,
   "id": "ae9819b5",
   "metadata": {},
   "outputs": [
    {
     "data": {
      "text/html": [
       "<div>\n",
       "<style scoped>\n",
       "    .dataframe tbody tr th:only-of-type {\n",
       "        vertical-align: middle;\n",
       "    }\n",
       "\n",
       "    .dataframe tbody tr th {\n",
       "        vertical-align: top;\n",
       "    }\n",
       "\n",
       "    .dataframe thead th {\n",
       "        text-align: right;\n",
       "    }\n",
       "</style>\n",
       "<table border=\"1\" class=\"dataframe\">\n",
       "  <thead>\n",
       "    <tr style=\"text-align: right;\">\n",
       "      <th></th>\n",
       "      <th>Coefficient</th>\n",
       "      <th>exp</th>\n",
       "    </tr>\n",
       "  </thead>\n",
       "  <tbody>\n",
       "    <tr>\n",
       "      <th>&lt;400,750&gt;</th>\n",
       "      <td>-0.177560</td>\n",
       "      <td>0.837311</td>\n",
       "    </tr>\n",
       "    <tr>\n",
       "      <th>&lt;750,1022&gt;</th>\n",
       "      <td>-0.159435</td>\n",
       "      <td>0.852625</td>\n",
       "    </tr>\n",
       "    <tr>\n",
       "      <th>&lt;1022,1500&gt;</th>\n",
       "      <td>-0.074752</td>\n",
       "      <td>0.927973</td>\n",
       "    </tr>\n",
       "    <tr>\n",
       "      <th>&lt;1500,2100&gt;</th>\n",
       "      <td>-0.009781</td>\n",
       "      <td>0.990267</td>\n",
       "    </tr>\n",
       "    <tr>\n",
       "      <th>&gt;2100</th>\n",
       "      <td>0.011860</td>\n",
       "      <td>1.011930</td>\n",
       "    </tr>\n",
       "    <tr>\n",
       "      <th>sex</th>\n",
       "      <td>0.135859</td>\n",
       "      <td>1.145521</td>\n",
       "    </tr>\n",
       "    <tr>\n",
       "      <th>married</th>\n",
       "      <td>0.226481</td>\n",
       "      <td>1.254179</td>\n",
       "    </tr>\n",
       "    <tr>\n",
       "      <th>single</th>\n",
       "      <td>0.465441</td>\n",
       "      <td>1.592716</td>\n",
       "    </tr>\n",
       "    <tr>\n",
       "      <th>kindergarten</th>\n",
       "      <td>0.490469</td>\n",
       "      <td>1.633081</td>\n",
       "    </tr>\n",
       "    <tr>\n",
       "      <th>incompletePrimary</th>\n",
       "      <td>0.499775</td>\n",
       "      <td>1.648350</td>\n",
       "    </tr>\n",
       "    <tr>\n",
       "      <th>completePrimary</th>\n",
       "      <td>0.661072</td>\n",
       "      <td>1.936868</td>\n",
       "    </tr>\n",
       "    <tr>\n",
       "      <th>incompleteSecondary</th>\n",
       "      <td>0.729441</td>\n",
       "      <td>2.073921</td>\n",
       "    </tr>\n",
       "    <tr>\n",
       "      <th>completeSecondary</th>\n",
       "      <td>0.966750</td>\n",
       "      <td>2.629385</td>\n",
       "    </tr>\n",
       "    <tr>\n",
       "      <th>incompleteTechnical</th>\n",
       "      <td>1.069724</td>\n",
       "      <td>2.914575</td>\n",
       "    </tr>\n",
       "    <tr>\n",
       "      <th>incompleteUniversity</th>\n",
       "      <td>1.134584</td>\n",
       "      <td>3.109879</td>\n",
       "    </tr>\n",
       "    <tr>\n",
       "      <th>completeTechnical</th>\n",
       "      <td>1.198570</td>\n",
       "      <td>3.315372</td>\n",
       "    </tr>\n",
       "    <tr>\n",
       "      <th>completeUniversity</th>\n",
       "      <td>1.227683</td>\n",
       "      <td>3.413311</td>\n",
       "    </tr>\n",
       "    <tr>\n",
       "      <th>Postgrade</th>\n",
       "      <td>1.299527</td>\n",
       "      <td>3.667562</td>\n",
       "    </tr>\n",
       "    <tr>\n",
       "      <th>age</th>\n",
       "      <td>1.604249</td>\n",
       "      <td>4.974123</td>\n",
       "    </tr>\n",
       "    <tr>\n",
       "      <th>numMembersAtHome</th>\n",
       "      <td>1.734314</td>\n",
       "      <td>5.665042</td>\n",
       "    </tr>\n",
       "  </tbody>\n",
       "</table>\n",
       "</div>"
      ],
      "text/plain": [
       "                      Coefficient       exp\n",
       "<400,750>               -0.177560  0.837311\n",
       "<750,1022>              -0.159435  0.852625\n",
       "<1022,1500>             -0.074752  0.927973\n",
       "<1500,2100>             -0.009781  0.990267\n",
       ">2100                    0.011860  1.011930\n",
       "sex                      0.135859  1.145521\n",
       "married                  0.226481  1.254179\n",
       "single                   0.465441  1.592716\n",
       "kindergarten             0.490469  1.633081\n",
       "incompletePrimary        0.499775  1.648350\n",
       "completePrimary          0.661072  1.936868\n",
       "incompleteSecondary      0.729441  2.073921\n",
       "completeSecondary        0.966750  2.629385\n",
       "incompleteTechnical      1.069724  2.914575\n",
       "incompleteUniversity     1.134584  3.109879\n",
       "completeTechnical        1.198570  3.315372\n",
       "completeUniversity       1.227683  3.413311\n",
       "Postgrade                1.299527  3.667562\n",
       "age                      1.604249  4.974123\n",
       "numMembersAtHome         1.734314  5.665042"
      ]
     },
     "execution_count": 107,
     "metadata": {},
     "output_type": "execute_result"
    }
   ],
   "source": [
    "coeff"
   ]
  },
  {
   "cell_type": "code",
   "execution_count": null,
   "id": "99e04af6",
   "metadata": {},
   "outputs": [],
   "source": []
  },
  {
   "cell_type": "code",
   "execution_count": null,
   "id": "1f059c88",
   "metadata": {},
   "outputs": [],
   "source": []
  },
  {
   "cell_type": "code",
   "execution_count": null,
   "id": "98934f0f",
   "metadata": {},
   "outputs": [],
   "source": []
  }
 ],
 "metadata": {
  "kernelspec": {
   "display_name": "Python 3 (ipykernel)",
   "language": "python",
   "name": "python3"
  },
  "language_info": {
   "codemirror_mode": {
    "name": "ipython",
    "version": 3
   },
   "file_extension": ".py",
   "mimetype": "text/x-python",
   "name": "python",
   "nbconvert_exporter": "python",
   "pygments_lexer": "ipython3",
   "version": "3.9.7"
  }
 },
 "nbformat": 4,
 "nbformat_minor": 5
}
